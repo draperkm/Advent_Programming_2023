{
 "cells": [
  {
   "cell_type": "code",
   "execution_count": 87,
   "metadata": {},
   "outputs": [],
   "source": [
    "arr = []\n",
    "\n",
    "with open(\"input2.txt\", \"r\") as file:\n",
    "    for line in file:\n",
    "        arr.append([num for num in line.rstrip().split(\" \")])\n",
    "        \n",
    "#for i in arr:\n",
    "#    print(i[0])"
   ]
  },
  {
   "cell_type": "code",
   "execution_count": 88,
   "metadata": {},
   "outputs": [],
   "source": [
    "new_gal = []\n",
    "\n",
    "for i in arr:\n",
    "    if all(char == '.' for char in i[0]):\n",
    "        new_gal.append(i[0])\n",
    "        new_gal.append(i[0])\n",
    "    else:\n",
    "        new_gal.append(i[0])\n",
    "\n",
    "\n",
    "#for i in new_gal:\n",
    "#    print(i)\n",
    "        "
   ]
  },
  {
   "cell_type": "code",
   "execution_count": 89,
   "metadata": {},
   "outputs": [
    {
     "data": {
      "text/plain": [
       "'Block with ChatGPT'"
      ]
     },
     "execution_count": 89,
     "metadata": {},
     "output_type": "execute_result"
    }
   ],
   "source": [
    "columns = [''.join(row[i] for row in new_gal) for i in range(len(new_gal[0]))]\n",
    "\n",
    "# Initialize a list to store the modified columns\n",
    "modified_columns = []\n",
    "\n",
    "# Iterate through the columns and insert an extra '.' column when needed\n",
    "for col in columns:\n",
    "    if all(char == '.' for char in col):\n",
    "        modified_columns.extend([col, '.' * len(col)])  # Add the original column and an extra '.' column\n",
    "    else:\n",
    "        modified_columns.append(col)  # Keep the original column\n",
    "\n",
    "# Transpose the modified columns back into rows\n",
    "new_lines = [''.join(row[i] for row in modified_columns) for i in range(len(modified_columns[0]))]\n",
    "\n",
    "# Join the modified lines to create the updated map\n",
    "updated_map = '\\n'.join(new_lines)\n",
    "\n",
    "# Print the updated map\n",
    "#print(updated_map)\n",
    "\n",
    "'''Block with ChatGPT'''"
   ]
  },
  {
   "cell_type": "code",
   "execution_count": 90,
   "metadata": {},
   "outputs": [],
   "source": [
    "\n",
    "update_gal = updated_map.split('\\n')\n",
    "#for i in update_gal:\n",
    "#    print(i)"
   ]
  },
  {
   "cell_type": "code",
   "execution_count": 91,
   "metadata": {},
   "outputs": [],
   "source": [
    "counter = 0\n",
    "num_gal = []\n",
    "\n",
    "for i in update_gal:\n",
    "    st = ''\n",
    "    for j in i:\n",
    "        if j != '.':\n",
    "            counter += 1\n",
    "            st += str((counter))\n",
    "        else:\n",
    "            st += '.'\n",
    "    num_gal.append(st)\n",
    "\n",
    "#for i in num_gal:\n",
    "#    print(i)"
   ]
  },
  {
   "cell_type": "code",
   "execution_count": 92,
   "metadata": {},
   "outputs": [
    {
     "data": {
      "text/plain": [
       "'Block with ChatGPT'"
      ]
     },
     "execution_count": 92,
     "metadata": {},
     "output_type": "execute_result"
    }
   ],
   "source": [
    "def find_special_points(map):\n",
    "    \"\"\"Finds the special points in the map and returns their coordinates.\"\"\"\n",
    "    points = []\n",
    "    for y, row in enumerate(map):\n",
    "        for x, char in enumerate(row):\n",
    "            if char.isdigit():\n",
    "                points.append((x, y))\n",
    "    return points\n",
    "\n",
    "def calculate_manhattan_distance(point1, point2):\n",
    "    \"\"\"Calculates the Manhattan distance between two points.\"\"\"\n",
    "    return abs(point1[0] - point2[0]) + abs(point1[1] - point2[1]) + 1\n",
    "\n",
    "def sum_of_all_pairwise_distances(points):\n",
    "    \"\"\"Calculates the sum of all pairwise Manhattan distances.\"\"\"\n",
    "    total_distance = 0\n",
    "    for i in range(len(points)):\n",
    "        for j in range(i + 1, len(points)):\n",
    "            total_distance += calculate_manhattan_distance(points[i], points[j])\n",
    "    return total_distance\n",
    "\n",
    "# Find special points and calculate the sum of all pairwise Manhattan distances\n",
    "special_points = find_special_points(num_gal)\n",
    "total_distance = sum_of_all_pairwise_distances(special_points)\n",
    "total_distance\n",
    "\n",
    "'''Block with ChatGPT'''\n"
   ]
  },
  {
   "cell_type": "code",
   "execution_count": 93,
   "metadata": {},
   "outputs": [
    {
     "name": "stdout",
     "output_type": "stream",
     "text": [
      "9418609\n"
     ]
    },
    {
     "data": {
      "text/plain": [
       "'Blcok from https://github.com/hyper-neutrino/advent-of-code/blob/main/2023/day11p1.py'"
      ]
     },
     "execution_count": 93,
     "metadata": {},
     "output_type": "execute_result"
    }
   ],
   "source": [
    "grid = open(\"input2.txt\").read().splitlines()\n",
    "\n",
    "empty_rows = [r for r, row in enumerate(grid) if all(ch == \".\" for ch in row)]\n",
    "empty_cols = [c for c, col in enumerate(zip(*grid)) if all(ch == \".\" for ch in col)]\n",
    "\n",
    "points = [(r, c) for r, row in enumerate(grid) for c, ch in enumerate(row) if ch == \"#\"]\n",
    "\n",
    "total = 0\n",
    "scale = 2\n",
    "\n",
    "for i, (r1, c1) in enumerate(points):\n",
    "    for (r2, c2) in points[:i]:\n",
    "        for r in range(min(r1, r2), max(r1, r2)):\n",
    "            total += scale if r in empty_rows else 1\n",
    "        for c in range(min(c1, c2), max(c1, c2)):\n",
    "            total += scale if c in empty_cols else 1\n",
    "\n",
    "print(total)\n",
    "\n",
    "'''Blcok from https://github.com/hyper-neutrino/advent-of-code/blob/main/2023/day11p1.py'''"
   ]
  }
 ],
 "metadata": {
  "kernelspec": {
   "display_name": "whisper",
   "language": "python",
   "name": "whisper"
  },
  "language_info": {
   "codemirror_mode": {
    "name": "ipython",
    "version": 3
   },
   "file_extension": ".py",
   "mimetype": "text/x-python",
   "name": "python",
   "nbconvert_exporter": "python",
   "pygments_lexer": "ipython3",
   "version": "3.8.13"
  }
 },
 "nbformat": 4,
 "nbformat_minor": 2
}
