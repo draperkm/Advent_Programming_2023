{
 "cells": [
  {
   "cell_type": "code",
   "execution_count": 1,
   "metadata": {},
   "outputs": [
    {
     "name": "stdout",
     "output_type": "stream",
     "text": [
      "593821230983\n"
     ]
    }
   ],
   "source": [
    "grid = open('input2.txt').read().splitlines()\n",
    "\n",
    "empty_rows = [r for r, row in enumerate(grid) if all(ch == \".\" for ch in row)]\n",
    "empty_cols = [c for c, col in enumerate(zip(*grid)) if all(ch == \".\" for ch in col)]\n",
    "\n",
    "points = [(r, c) for r, row in enumerate(grid) for c, ch in enumerate(row) if ch == \"#\"]\n",
    "\n",
    "total = 0\n",
    "scale = 1000000\n",
    "\n",
    "for i, (r1, c1) in enumerate(points):\n",
    "    for (r2, c2) in points[:i]:\n",
    "        for r in range(min(r1, r2), max(r1, r2)):\n",
    "            total += scale if r in empty_rows else 1\n",
    "        for c in range(min(c1, c2), max(c1, c2)):\n",
    "            total += scale if c in empty_cols else 1\n",
    "\n",
    "print(total)\n",
    "\n",
    "'''from https://github.com/hyper-neutrino/advent-of-code/blob/main/2023/day11p2.py'''"
   ]
  }
 ],
 "metadata": {
  "kernelspec": {
   "display_name": "whisper",
   "language": "python",
   "name": "whisper"
  },
  "language_info": {
   "codemirror_mode": {
    "name": "ipython",
    "version": 3
   },
   "file_extension": ".py",
   "mimetype": "text/x-python",
   "name": "python",
   "nbconvert_exporter": "python",
   "pygments_lexer": "ipython3",
   "version": "3.8.13"
  }
 },
 "nbformat": 4,
 "nbformat_minor": 2
}
