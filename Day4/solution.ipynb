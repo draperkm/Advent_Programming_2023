{
 "cells": [
  {
   "cell_type": "code",
   "execution_count": 91,
   "metadata": {},
   "outputs": [],
   "source": [
    "arr = []\n",
    "\n",
    "with open(\"input.txt\", \"r\") as file:\n",
    "    for line in file:\n",
    "        elements = line.strip().split(\":\")\n",
    "        arr.append(elements)\n",
    "\n",
    "for i in arr:\n",
    "    numbers = i[1].strip(\" \").split('|')\n",
    "    i[1:2] = numbers\n",
    "\n",
    "##for i in arr:\n",
    "    ##print(i)\n"
   ]
  },
  {
   "cell_type": "code",
   "execution_count": 92,
   "metadata": {},
   "outputs": [],
   "source": [
    "import re\n",
    "\n",
    "arr2 = []\n",
    "\n",
    "for i in arr:\n",
    "    #print(i[1])\n",
    "    numbers = re.findall(r'\\d+', i[1])\n",
    "    numbers = [int(num) for num in numbers]\n",
    "    \n",
    "    numbers2 = re.findall(r'\\d+', i[2])\n",
    "    numbers2 = [int(num2) for num2 in numbers2]\n",
    "    arr2.append([[i[0]], numbers, numbers2])\n",
    "\n",
    "##for i in arr2:\n",
    "    ##print(i)"
   ]
  },
  {
   "cell_type": "code",
   "execution_count": 93,
   "metadata": {},
   "outputs": [
    {
     "name": "stdout",
     "output_type": "stream",
     "text": [
      "23235\n"
     ]
    }
   ],
   "source": [
    "arr3 = []\n",
    "tot_sum = 0\n",
    "\n",
    "for i in arr2:\n",
    "    par_sum = 0\n",
    "    for j in i[2]:\n",
    "        if par_sum == 0 and j in i[1]:\n",
    "            par_sum = 1\n",
    "        elif par_sum > 0 and j in i[1]:\n",
    "                par_sum = par_sum * 2\n",
    "    tot_sum += par_sum   \n",
    "    arr3.append([i[0], par_sum])\n",
    "\n",
    "#for i in arr3:\n",
    "    #print(i)\n",
    " \n",
    "print(tot_sum)"
   ]
  }
 ],
 "metadata": {
  "kernelspec": {
   "display_name": "whisper",
   "language": "python",
   "name": "whisper"
  },
  "language_info": {
   "codemirror_mode": {
    "name": "ipython",
    "version": 3
   },
   "file_extension": ".py",
   "mimetype": "text/x-python",
   "name": "python",
   "nbconvert_exporter": "python",
   "pygments_lexer": "ipython3",
   "version": "3.8.13"
  }
 },
 "nbformat": 4,
 "nbformat_minor": 2
}
