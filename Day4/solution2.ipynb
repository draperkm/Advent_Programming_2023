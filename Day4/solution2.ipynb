{
 "cells": [
  {
   "cell_type": "code",
   "execution_count": 271,
   "metadata": {},
   "outputs": [],
   "source": [
    "arr = []\n",
    "\n",
    "with open(\"input.txt\", \"r\") as file:\n",
    "    for line in file:\n",
    "        elements = line.strip().split(\":\")\n",
    "        arr.append(elements)\n",
    "\n",
    "for i in arr:\n",
    "    numbers = i[1].strip(\" \").split('|')\n",
    "    i[1:2] = numbers\n",
    "\n",
    "##for i in arr:\n",
    "    ##print(i)"
   ]
  },
  {
   "cell_type": "code",
   "execution_count": 272,
   "metadata": {},
   "outputs": [],
   "source": [
    "import re\n",
    "\n",
    "arr2 = []\n",
    "\n",
    "for i in arr:\n",
    "    #print(i[1])\n",
    "    numbers = re.findall(r'\\d+', i[1])\n",
    "    numbers = [int(num) for num in numbers]\n",
    "    \n",
    "    numbers2 = re.findall(r'\\d+', i[2])\n",
    "    numbers2 = [int(num2) for num2 in numbers2]\n",
    "    arr2.append([[i[0]], numbers, numbers2])\n",
    "\n",
    "##for i in arr2:\n",
    "    ##print(i)"
   ]
  },
  {
   "cell_type": "code",
   "execution_count": 273,
   "metadata": {},
   "outputs": [],
   "source": [
    "index = []\n",
    "for i in arr2:\n",
    "    index.append(str(i[0]).replace(\"'\", \"\").replace(\"[\", \"\").replace(\"]\", \"\"))\n",
    "\n",
    "##print(index)"
   ]
  },
  {
   "cell_type": "code",
   "execution_count": 274,
   "metadata": {},
   "outputs": [],
   "source": [
    "arr3 = []\n",
    "tot_sum = 0\n",
    "\n",
    "for i in arr2:\n",
    "    par_sum = 0\n",
    "    for j in i[2]:\n",
    "        if par_sum == 0 and j in i[1]:\n",
    "            par_sum = 1\n",
    "        elif par_sum > 0 and j in i[1]:\n",
    "                par_sum += 1\n",
    "    tot_sum += par_sum   \n",
    "    arr3.append([i[0], par_sum])\n",
    "\n",
    "dict = {}\n",
    "\n",
    "#for i in arr3:\n",
    "    #print(i)\n",
    "\n",
    "for i, j in enumerate(arr3):\n",
    "    #print(i+1,j)\n",
    "    temp = []\n",
    "    #print(f'{i+1} to {i+j[1]+1}')\n",
    "    for k in  range(i+1, i+j[1]+1):\n",
    "        temp.append(arr3[k][0])\n",
    "    dict[j[0][0]] = temp\n",
    "\n",
    "##for key, value in dict.items():\n",
    "    ##print(f\"Key: {key}, Value: {value}\")\n"
   ]
  },
  {
   "cell_type": "code",
   "execution_count": 275,
   "metadata": {},
   "outputs": [],
   "source": [
    "dict2 = {}\n",
    "\n",
    "for i in range(0, len(arr)):\n",
    "    dict2[str(index[i])] = int(1)\n",
    "\n",
    "##print(dict2)\n",
    "\n",
    "##for i in index:\n",
    "    ##print(f'key: {i}, value: {dict2[str(i)]}')\n",
    "    "
   ]
  },
  {
   "cell_type": "code",
   "execution_count": 276,
   "metadata": {},
   "outputs": [],
   "source": [
    "for key, value in dict.items():\n",
    "    ##print(f\"Key: {key}, Value: {value}\")\n",
    "    for h in value:\n",
    "        ##print(f'h: {h[0]}!!! value h: {dict2[h[0]]}')\n",
    "        for y in range(0, dict2[key]):\n",
    "            #for g in range(0, dict2[h[0]]):\n",
    "            dict2[h[0]]+= 1\n",
    "            ##print(f'h: {h[0]} value h: {dict2[h[0]]}')\n",
    "       \n",
    "        \n",
    "    "
   ]
  },
  {
   "cell_type": "code",
   "execution_count": 277,
   "metadata": {},
   "outputs": [],
   "source": [
    "##for i in index:\n",
    "    ##print(f'key: {i}, value: {dict2[str(i)]}')"
   ]
  },
  {
   "cell_type": "code",
   "execution_count": 278,
   "metadata": {},
   "outputs": [
    {
     "name": "stdout",
     "output_type": "stream",
     "text": [
      "5920640\n"
     ]
    }
   ],
   "source": [
    "total_sum = sum(dict2.values())\n",
    "\n",
    "print(total_sum)\n"
   ]
  }
 ],
 "metadata": {
  "kernelspec": {
   "display_name": "whisper",
   "language": "python",
   "name": "whisper"
  },
  "language_info": {
   "codemirror_mode": {
    "name": "ipython",
    "version": 3
   },
   "file_extension": ".py",
   "mimetype": "text/x-python",
   "name": "python",
   "nbconvert_exporter": "python",
   "pygments_lexer": "ipython3",
   "version": "3.8.13"
  }
 },
 "nbformat": 4,
 "nbformat_minor": 2
}
