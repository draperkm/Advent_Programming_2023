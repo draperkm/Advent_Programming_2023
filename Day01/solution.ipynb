{
 "cells": [
  {
   "cell_type": "code",
   "execution_count": 39,
   "metadata": {},
   "outputs": [
    {
     "name": "stdout",
     "output_type": "stream",
     "text": [
      "53334\n"
     ]
    }
   ],
   "source": [
    "import re\n",
    "\n",
    "sum = 0\n",
    "\n",
    "arr = []\n",
    "\n",
    "with open(\"input.txt\", \"r\") as file:\n",
    "    for line in file:\n",
    "        number = re.findall(r'\\d+', line)\n",
    "        arr.append(number)\n",
    "\n",
    "for i in arr:\n",
    "    my_array = \"\".join(i)\n",
    "    sum += int(f\"{my_array[0]}{my_array[-1]}\")\n",
    "\n",
    "print(sum)\n",
    "\n"
   ]
  },
  {
   "cell_type": "code",
   "execution_count": 77,
   "metadata": {},
   "outputs": [
    {
     "name": "stdout",
     "output_type": "stream",
     "text": [
      "52834\n"
     ]
    }
   ],
   "source": [
    "import re\n",
    "from word2number import w2n\n",
    "\n",
    "def word_to_num(word):\n",
    "    mapping = {\n",
    "        \"zero\": 0, \"one\": 1, \"two\": 2, \"three\": 3, \"four\": 4,\n",
    "        \"five\": 5, \"six\": 6, \"seven\": 7, \"eight\": 8, \"nine\": 9,\n",
    "        \"ten\": 10, \"eleven\": 11, \"twelve\": 12, \"thirteen\": 13,\n",
    "        \"fourteen\": 14, \"fifteen\": 15, \"sixteen\": 16, \"seventeen\": 17,\n",
    "        \"eighteen\": 18, \"nineteen\": 19, \"twenty\": 20, \"thirty\": 30,\n",
    "        \"forty\": 40, \"fifty\": 50, \"sixty\": 60, \"seventy\": 70,\n",
    "        \"eighty\": 80, \"ninety\": 90\n",
    "    }\n",
    "    return mapping.get(word.lower(), None)\n",
    "\n",
    "sum = 0\n",
    "arr = []\n",
    "\n",
    "def extract_numbers_and_digits(s):\n",
    "    pattern = r'zero|one|two|three|four|five|six|seven|eight|nine|ten|eleven|twelve|thirteen|fourteen|fifteen|sixteen|seventeen|eighteen|nineteen|twenty|thirty|forty|fifty|sixty|seventy|eighty|ninety|hundred|thousand|\\d'\n",
    "    matches = re.finditer(pattern, s, re.IGNORECASE)\n",
    "    extracted_elements = [match.group() for match in matches]\n",
    "    return extracted_elements\n",
    "\n",
    "with open(\"input.txt\", \"r\") as file:\n",
    "    for line in file:\n",
    "        words = extract_numbers_and_digits(line)\n",
    "        arr = []\n",
    "        for item in words:\n",
    "            if item.isdigit():\n",
    "                arr.append(str(int(item)))\n",
    "            else:\n",
    "                num = word_to_num(item)\n",
    "                if num is not None:\n",
    "                    arr.append(str(num))           \n",
    "        my_array = \"\".join(arr)\n",
    "        #print(arr)\n",
    "        sum += int(f\"{my_array[0]}{my_array[-1]}\")\n",
    "\n",
    "print(sum)\n",
    "\n"
   ]
  }
 ],
 "metadata": {
  "kernelspec": {
   "display_name": "whisper",
   "language": "python",
   "name": "whisper"
  },
  "language_info": {
   "codemirror_mode": {
    "name": "ipython",
    "version": 3
   },
   "file_extension": ".py",
   "mimetype": "text/x-python",
   "name": "python",
   "nbconvert_exporter": "python",
   "pygments_lexer": "ipython3",
   "version": "3.8.13"
  }
 },
 "nbformat": 4,
 "nbformat_minor": 2
}
