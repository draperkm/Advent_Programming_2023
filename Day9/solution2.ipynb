{
 "cells": [
  {
   "cell_type": "code",
   "execution_count": 7,
   "metadata": {},
   "outputs": [],
   "source": [
    "arr = []\n",
    "\n",
    "with open(\"input.txt\", \"r\") as file:\n",
    "    for line in file:\n",
    "        arr.append([int(num) for num in line.rstrip().split(\" \")])"
   ]
  },
  {
   "cell_type": "code",
   "execution_count": 8,
   "metadata": {},
   "outputs": [
    {
     "name": "stdout",
     "output_type": "stream",
     "text": [
      "988\n"
     ]
    }
   ],
   "source": [
    "def find_diff(vector):\n",
    "    total = [vector]\n",
    "    while any(element != 0 for element in vector):\n",
    "        diff = []\n",
    "        for i in range(len(vector)-1):\n",
    "            diff.append(vector[i+1] - vector[i])\n",
    "        vector = diff\n",
    "        if vector:\n",
    "            total.append(vector)\n",
    "    return total\n",
    "\n",
    "def last_num(elements):\n",
    "    for i in range(len(elements) - 2, -1, -1):\n",
    "        elements[i].append(elements[i][-1] + elements[i + 1][-1])\n",
    "    return elements[0][-1]\n",
    "\n",
    "sum_extrapolated = 0\n",
    "for vector in arr:\n",
    "    reversed_vector = vector[::-1]  # Reverse the vector\n",
    "    extrapolated = last_num(find_diff(reversed_vector))\n",
    "    sum_extrapolated += extrapolated\n",
    "\n",
    "print(sum_extrapolated)\n"
   ]
  }
 ],
 "metadata": {
  "kernelspec": {
   "display_name": "whisper",
   "language": "python",
   "name": "whisper"
  },
  "language_info": {
   "codemirror_mode": {
    "name": "ipython",
    "version": 3
   },
   "file_extension": ".py",
   "mimetype": "text/x-python",
   "name": "python",
   "nbconvert_exporter": "python",
   "pygments_lexer": "ipython3",
   "version": "3.8.13"
  }
 },
 "nbformat": 4,
 "nbformat_minor": 2
}
