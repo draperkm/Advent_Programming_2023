{
 "cells": [
  {
   "cell_type": "code",
   "execution_count": 4,
   "metadata": {},
   "outputs": [],
   "source": [
    "with open(\"input2.txt\", \"r\") as file:\n",
    "    text_lines = file.read().split(\"\\n\\n\")\n"
   ]
  },
  {
   "cell_type": "code",
   "execution_count": 17,
   "metadata": {},
   "outputs": [
    {
     "name": "stdout",
     "output_type": "stream",
     "text": [
      "{x=787,m=2655,a=1222,s=2876}\n",
      "{x=1679,m=44,a=2067,s=496}\n",
      "{x=2036,m=264,a=79,s=2244}\n",
      "{x=2461,m=1339,a=466,s=291}\n",
      "{x=2127,m=1623,a=2188,s=1013}\n",
      "\n",
      "\n",
      "px{a<2006:qkq,m>2090:A,rfg}\n",
      "pv{a>1716:R,A}\n",
      "lnx{m>1548:A,A}\n",
      "rfg{s<537:gd,x>2440:R,A}\n",
      "qs{s>3448:A,lnx}\n",
      "qkq{x<1416:A,crn}\n",
      "crn{x>2662:A,R}\n",
      "in{s<1351:px,qqz}\n",
      "qqz{s>2770:qs,m<1801:hdj,R}\n",
      "gd{a>3333:R,R}\n",
      "hdj{m>838:A,pv}\n"
     ]
    }
   ],
   "source": [
    "print(text_lines[1])\n",
    "print(\"\\n\")\n",
    "print(text_lines[0])"
   ]
  },
  {
   "cell_type": "code",
   "execution_count": 16,
   "metadata": {},
   "outputs": [],
   "source": [
    "processes: text_lines[0].split(\"\\n\")\n",
    "parts = text_lines[1].split(\"\\n\")"
   ]
  },
  {
   "cell_type": "code",
   "execution_count": 15,
   "metadata": {},
   "outputs": [
    {
     "name": "stdout",
     "output_type": "stream",
     "text": [
      "{'x': 787, 'm': 2655, 'a': 1222, 's': 2876}\n"
     ]
    }
   ],
   "source": [
    "def string_to_dict(string):\n",
    "    string = string.strip(\"{}\") \n",
    "    pairs = string.split(\",\")\n",
    "    return {pair.split(\"=\")[0]: int(pair.split(\"=\")[1]) for pair in pairs}\n",
    "\n",
    "result_dict = string_to_dict(parts[0])\n",
    "print(result_dict)\n"
   ]
  },
  {
   "cell_type": "code",
   "execution_count": 33,
   "metadata": {},
   "outputs": [
    {
     "name": "stdout",
     "output_type": "stream",
     "text": [
      "[{'px': ['a<2006:qkq', 'm>2090:A', 'rfg']}, {'pv': ['a>1716:R', 'A']}, {'lnx': ['m>1548:A', 'A']}, {'rfg': ['s<537:gd', 'x>2440:R', 'A']}, {'qs': ['s>3448:A', 'lnx']}, {'qkq': ['x<1416:A', 'crn']}, {'crn': ['x>2662:A', 'R']}, {'in': ['s<1351:px', 'qqz']}, {'qqz': ['s>2770:qs', 'm<1801:hdj', 'R']}, {'gd': ['a>3333:R', 'R']}, {'hdj': ['m>838:A', 'pv']}]\n"
     ]
    }
   ],
   "source": [
    "def convert_string_to_set_of_dicts(input_string):\n",
    "    lines = input_string.splitlines()\n",
    "    result_set = []\n",
    "\n",
    "    for line in lines:\n",
    "        parts = line.split(\"{\") \n",
    "        key = parts[0].strip()\n",
    "        values = parts[1].strip()[:-1].split(\",\") \n",
    "        result_set.append({key: values})\n",
    "\n",
    "    return result_set\n",
    "\n",
    "# Example usage:\n",
    "input_string = \"\"\"px{a<2006:qkq,m>2090:A,rfg}\n",
    "pv{a>1716:R,A}\n",
    "lnx{m>1548:A,A}\n",
    "rfg{s<537:gd,x>2440:R,A}\n",
    "qs{s>3448:A,lnx}\n",
    "qkq{x<1416:A,crn}\n",
    "crn{x>2662:A,R}\n",
    "in{s<1351:px,qqz}\n",
    "qqz{s>2770:qs,m<1801:hdj,R}\n",
    "gd{a>3333:R,R}\n",
    "hdj{m>838:A,pv}\"\"\"\n",
    "\n",
    "result_set = convert_string_to_set_of_dicts(input_string)\n",
    "print(result_set)\n"
   ]
  },
  {
   "cell_type": "code",
   "execution_count": 37,
   "metadata": {},
   "outputs": [
    {
     "name": "stdout",
     "output_type": "stream",
     "text": [
      "{'px': ['a<2006:qkq', 'm>2090:A', 'rfg']}\n",
      "{'pv': ['a>1716:R', 'A']}\n",
      "{'lnx': ['m>1548:A', 'A']}\n",
      "{'rfg': ['s<537:gd', 'x>2440:R', 'A']}\n",
      "{'qs': ['s>3448:A', 'lnx']}\n",
      "{'qkq': ['x<1416:A', 'crn']}\n",
      "{'crn': ['x>2662:A', 'R']}\n",
      "{'in': ['s<1351:px', 'qqz']}\n",
      "{'qqz': ['s>2770:qs', 'm<1801:hdj', 'R']}\n",
      "{'gd': ['a>3333:R', 'R']}\n",
      "{'hdj': ['m>838:A', 'pv']}\n"
     ]
    }
   ],
   "source": [
    "for i in result_set:\n",
    "    print(i)"
   ]
  },
  {
   "cell_type": "code",
   "execution_count": 98,
   "metadata": {},
   "outputs": [
    {
     "name": "stdout",
     "output_type": "stream",
     "text": [
      "selected val: ['a>1716:R', 'A']\n",
      "result3: ['a>1716', 'R']\n",
      "['a>1716', 'R']\n",
      "result3: ['A']\n",
      "['A']\n"
     ]
    }
   ],
   "source": [
    "total = []\n",
    "key_to_select = \"pv\"\n",
    "selected_values = []\n",
    "for d in result_set:\n",
    "    if key_to_select in d:\n",
    "        selected_values.append(d[key_to_select])\n",
    "print(f'selected val: {selected_values[0]}')\n",
    "\n",
    "for i in selected_values[0]:\n",
    "    cond = i.split(\":\")\n",
    "    for j in range(0, len(cond)):\n",
    "        if '>' in cond[j]:\n",
    "            temp1, temp2 = cond[j].split(\">\")\n",
    "            if result_dict[temp1] > int(temp2):\n",
    "                cond[j] = [result_dict[temp1], '>', int(temp2)]\n",
    "                print(f'result1: {cond}')\n",
    "                break\n",
    "        elif '<' in cond[j]:\n",
    "            temp1, temp2 = cond[j].split(\"<\")\n",
    "            if result_dict[temp1] < int(temp2):\n",
    "                cond[j] = [result_dict[temp1], '<', int(temp2)]\n",
    "                print(f'result2: {cond}')\n",
    "                break\n",
    "        else:\n",
    "            print(f'result3: {cond}')  \n",
    "    if cond[j] in [[result_dict[temp1], '>', int(temp2)], [result_dict[temp1], '<', int(temp2)]]: \n",
    "        print(cond)\n",
    "        if cond[-1] == 'A' or cond[-1] == 'R':\n",
    "            total.append([result_dict, cond])\n",
    "        break\n",
    "    else:\n",
    "        print(cond)\n",
    "        if cond == 'A' or cond == 'R':\n",
    "            total.append([result_dict, cond])\n"
   ]
  },
  {
   "cell_type": "code",
   "execution_count": 90,
   "metadata": {},
   "outputs": [
    {
     "data": {
      "text/plain": [
       "[]"
      ]
     },
     "execution_count": 90,
     "metadata": {},
     "output_type": "execute_result"
    }
   ],
   "source": [
    "total"
   ]
  },
  {
   "cell_type": "code",
   "execution_count": 72,
   "metadata": {},
   "outputs": [
    {
     "name": "stdout",
     "output_type": "stream",
     "text": [
      "{'x': 787, 'm': 2655, 'a': 1222, 's': 2876}\n"
     ]
    }
   ],
   "source": [
    "print(result_dict)"
   ]
  },
  {
   "cell_type": "markdown",
   "metadata": {},
   "source": [
    "## Solution 1"
   ]
  },
  {
   "cell_type": "code",
   "execution_count": 99,
   "metadata": {},
   "outputs": [
    {
     "name": "stdout",
     "output_type": "stream",
     "text": [
      "342650\n"
     ]
    }
   ],
   "source": [
    "block1, block2 = open(\"input.txt\").read().split(\"\\n\\n\")\n",
    "\n",
    "workflows = {}\n",
    "\n",
    "for line in block1.splitlines():\n",
    "    name, rest = line[:-1].split(\"{\")\n",
    "    rules = rest.split(\",\")\n",
    "    workflows[name] = ([], rules.pop())\n",
    "    for rule in rules:\n",
    "        comparison, target = rule.split(\":\")\n",
    "        key = comparison[0]\n",
    "        cmp = comparison[1]\n",
    "        n = int(comparison[2:])\n",
    "        workflows[name][0].append((key, cmp, n, target))\n",
    "\n",
    "ops = {\n",
    "    \">\": int.__gt__,\n",
    "    \"<\": int.__lt__\n",
    "}\n",
    "\n",
    "def accept(item, name = \"in\"):\n",
    "    if name == \"R\":\n",
    "        return False\n",
    "    if name == \"A\":\n",
    "        return True\n",
    "\n",
    "    rules, fallback = workflows[name]\n",
    "    \n",
    "    for key, cmp, n, target in rules:\n",
    "        if ops[cmp](item[key], n):\n",
    "            return accept(item, target)\n",
    "    \n",
    "    return accept(item, fallback)\n",
    "\n",
    "total = 0\n",
    "\n",
    "for line in block2.splitlines():\n",
    "    item = {}\n",
    "    for segment in line[1:-1].split(\",\"):\n",
    "        ch, n = segment.split(\"=\")\n",
    "        item[ch] = int(n)\n",
    "    if accept(item):\n",
    "        total += sum(item.values())\n",
    "\n",
    "print(total)\n",
    "\n",
    "'''solution from https://github.com/hyper-neutrino/advent-of-code/blob/main/2023/day19p1.py'''"
   ]
  },
  {
   "cell_type": "code",
   "execution_count": 100,
   "metadata": {},
   "outputs": [
    {
     "name": "stdout",
     "output_type": "stream",
     "text": [
      "130303473508222\n"
     ]
    },
    {
     "data": {
      "text/plain": [
       "'solution from https://github.com/hyper-neutrino/advent-of-code/blob/main/2023/day19p2.py'"
      ]
     },
     "execution_count": 100,
     "metadata": {},
     "output_type": "execute_result"
    }
   ],
   "source": [
    "block1, _ = open('input.txt').read().split(\"\\n\\n\")\n",
    "\n",
    "workflows = {}\n",
    "\n",
    "for line in block1.splitlines():\n",
    "    name, rest = line[:-1].split(\"{\")\n",
    "    rules = rest.split(\",\")\n",
    "    workflows[name] = ([], rules.pop())\n",
    "    for rule in rules:\n",
    "        comparison, target = rule.split(\":\")\n",
    "        key = comparison[0]\n",
    "        cmp = comparison[1]\n",
    "        n = int(comparison[2:])\n",
    "        workflows[name][0].append((key, cmp, n, target))\n",
    "\n",
    "def count(ranges, name = \"in\"):\n",
    "    if name == \"R\":\n",
    "        return 0\n",
    "    if name == \"A\":\n",
    "        product = 1\n",
    "        for lo, hi in ranges.values():\n",
    "            product *= hi - lo + 1\n",
    "        return product\n",
    "    \n",
    "    rules, fallback = workflows[name]\n",
    "\n",
    "    total = 0\n",
    "\n",
    "    for key, cmp, n, target in rules:\n",
    "        lo, hi = ranges[key]\n",
    "        if cmp == \"<\":\n",
    "            T = (lo, min(n - 1, hi))\n",
    "            F = (max(n, lo), hi)\n",
    "        else:\n",
    "            T = (max(n + 1, lo), hi)\n",
    "            F = (lo, min(n, hi))\n",
    "        if T[0] <= T[1]:\n",
    "            copy = dict(ranges)\n",
    "            copy[key] = T\n",
    "            total += count(copy, target)\n",
    "        if F[0] <= F[1]:\n",
    "            ranges = dict(ranges)\n",
    "            ranges[key] = F\n",
    "        else:\n",
    "            break\n",
    "    else:\n",
    "        total += count(ranges, fallback)\n",
    "            \n",
    "    return total\n",
    "\n",
    "print(count({key: (1, 4000) for key in \"xmas\"}))\n",
    "\n",
    "'''solution from https://github.com/hyper-neutrino/advent-of-code/blob/main/2023/day19p2.py'''"
   ]
  }
 ],
 "metadata": {
  "kernelspec": {
   "display_name": "whisper",
   "language": "python",
   "name": "whisper"
  },
  "language_info": {
   "codemirror_mode": {
    "name": "ipython",
    "version": 3
   },
   "file_extension": ".py",
   "mimetype": "text/x-python",
   "name": "python",
   "nbconvert_exporter": "python",
   "pygments_lexer": "ipython3",
   "version": "3.8.13"
  }
 },
 "nbformat": 4,
 "nbformat_minor": 2
}
