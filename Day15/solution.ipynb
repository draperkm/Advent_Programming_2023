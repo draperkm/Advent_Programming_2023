{
 "cells": [
  {
   "cell_type": "code",
   "execution_count": 170,
   "metadata": {},
   "outputs": [],
   "source": [
    "with open(\"input.txt\") as f:\n",
    "    lines = f.readlines()  # Read all lines from the file\n",
    "    for line in lines:\n",
    "        elements = line.split(\",\")  # Split each line by \",\"\n",
    "        \n",
    "#print(elements)  # Print the elements of each line\n"
   ]
  },
  {
   "cell_type": "code",
   "execution_count": 171,
   "metadata": {},
   "outputs": [
    {
     "name": "stdout",
     "output_type": "stream",
     "text": [
      "517965\n"
     ]
    }
   ],
   "source": [
    "numeri = []\n",
    "\n",
    "for i in elements:\n",
    "    asc = ([ord(num) for num in i])\n",
    "\n",
    "    initial = 0\n",
    "\n",
    "    for i in asc:\n",
    "        initial += i\n",
    "        initial *= 17\n",
    "        initial %= 256\n",
    "    \n",
    "    numeri.append(initial)\n",
    "    \n",
    "somma = 0\n",
    "\n",
    "for i in numeri:\n",
    "    somma+=i\n",
    "print(somma)"
   ]
  },
  {
   "cell_type": "markdown",
   "metadata": {},
   "source": [
    "## Solution 2"
   ]
  },
  {
   "cell_type": "code",
   "execution_count": 172,
   "metadata": {},
   "outputs": [],
   "source": [
    "#print(elements)"
   ]
  },
  {
   "cell_type": "code",
   "execution_count": 173,
   "metadata": {},
   "outputs": [],
   "source": [
    "def HASH(string):\n",
    "    val = ([ord(num) for num in string])\n",
    "    initial = 0\n",
    "    for i in val:\n",
    "        initial += i\n",
    "        initial *= 17\n",
    "        initial %= 256\n",
    "    return(initial)"
   ]
  },
  {
   "cell_type": "code",
   "execution_count": 174,
   "metadata": {},
   "outputs": [
    {
     "name": "stdout",
     "output_type": "stream",
     "text": [
      "267372\n"
     ]
    }
   ],
   "source": [
    "boxes = [[] for _ in range(256)]\n",
    "\n",
    "total = {}\n",
    "\n",
    "for i in elements:\n",
    "    diz = {}\n",
    "    if \"=\" in i:\n",
    "        t = i.split(\"=\")\n",
    "        box = HASH(t[0])\n",
    "        diz[t[0]] = int(t[1])\n",
    "        tup = (t[0], int(t[1]))\n",
    "        ##print(f'Box:{box} -> {tup}')\n",
    "        if any([t[0] in el for el in boxes[box]]):\n",
    "            for i, (first, second) in enumerate(boxes[box]):\n",
    "                if first == t[0]:\n",
    "                    boxes[box][i] = (first, t[1])\n",
    "                    ##print(f'ciao: {boxes[box]}')\n",
    "                    break \n",
    "        else:\n",
    "            boxes[box].append(tup)\n",
    "            ##print(f'elements: {boxes[box]}')\n",
    "    else:\n",
    "        t = i.split(\"-\")\n",
    "        box = HASH(t[0])\n",
    "        tup = (t[0], '-')\n",
    "        ##print(f'elimina: {tup}')\n",
    "        if any([t[0] in el for el in boxes[box]]):\n",
    "            for i, (first, second) in enumerate(boxes[box]):\n",
    "                if first == t[0]:\n",
    "                    boxes[box].pop(i)\n",
    "                    ##print(f'eli ciao: {boxes[box]}')\n",
    "                    break\n",
    "        else:\n",
    "            ##print('Niente da eliminare')\n",
    "            continue\n",
    "\n",
    "sum = 0\n",
    "for j,i in enumerate(boxes):\n",
    "    if i != []:\n",
    "        #print(j+1,i)\n",
    "        for r, y in enumerate(i):\n",
    "            #print(f'r: {r+1}, y:{y[1]}')\n",
    "            sum += (j + 1) * (r + 1) * (int(y[1]))\n",
    "\n",
    "print(sum)\n",
    "        \n",
    "        "
   ]
  }
 ],
 "metadata": {
  "kernelspec": {
   "display_name": "whisper",
   "language": "python",
   "name": "whisper"
  },
  "language_info": {
   "codemirror_mode": {
    "name": "ipython",
    "version": 3
   },
   "file_extension": ".py",
   "mimetype": "text/x-python",
   "name": "python",
   "nbconvert_exporter": "python",
   "pygments_lexer": "ipython3",
   "version": "3.8.13"
  }
 },
 "nbformat": 4,
 "nbformat_minor": 2
}
