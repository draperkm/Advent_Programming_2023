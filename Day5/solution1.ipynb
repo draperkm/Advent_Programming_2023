{
 "cells": [
  {
   "cell_type": "code",
   "execution_count": 10,
   "metadata": {},
   "outputs": [
    {
     "name": "stdout",
     "output_type": "stream",
     "text": [
      "seeds: 79 14 55 13\n",
      "\n",
      "seed-to-soil map:\n",
      "\n",
      "50 98 2\n",
      "\n",
      "52 50 48\n",
      "\n",
      "soil-to-fertilizer map:\n",
      "\n",
      "0 15 37\n",
      "\n",
      "37 52 2\n",
      "\n",
      "39 0 15\n",
      "\n",
      "fertilizer-to-water map:\n",
      "\n",
      "49 53 8\n",
      "\n",
      "0 11 42\n",
      "\n",
      "42 0 7\n",
      "\n",
      "57 7 4\n",
      "\n",
      "water-to-light map:\n",
      "\n",
      "88 18 7\n",
      "\n",
      "18 25 70\n",
      "\n",
      "light-to-temperature map:\n",
      "\n",
      "45 77 23\n",
      "\n",
      "81 45 19\n",
      "\n",
      "68 64 13\n",
      "\n",
      "temperature-to-humidity map:\n",
      "\n",
      "0 69 1\n",
      "\n",
      "1 0 69\n",
      "\n",
      "humidity-to-location map:\n",
      "\n",
      "60 56 37\n",
      "\n",
      "56 93 4\n"
     ]
    }
   ],
   "source": [
    "arr = []\n",
    "arr2 = []\n",
    "\n",
    "with open(\"input2.txt\", \"r\") as file:\n",
    "    lines = file.readlines()\n",
    "    for line in lines:\n",
    "        if line.strip():\n",
    "            print(line)\n",
    "        else:\n",
    "            continue"
   ]
  },
  {
   "cell_type": "code",
   "execution_count": 9,
   "metadata": {},
   "outputs": [
    {
     "name": "stdout",
     "output_type": "stream",
     "text": [
      "['seeds: 79 14 55 13\\n', '\\n', 'seed-to-soil map:\\n', '50 98 2\\n', '52 50 48\\n', '\\n', 'soil-to-fertilizer map:\\n', '0 15 37\\n', '37 52 2\\n', '39 0 15\\n', '\\n', 'fertilizer-to-water map:\\n', '49 53 8\\n', '0 11 42\\n', '42 0 7\\n', '57 7 4\\n', '\\n', 'water-to-light map:\\n', '88 18 7\\n', '18 25 70\\n', '\\n', 'light-to-temperature map:\\n', '45 77 23\\n', '81 45 19\\n', '68 64 13\\n', '\\n', 'temperature-to-humidity map:\\n', '0 69 1\\n', '1 0 69\\n', '\\n', 'humidity-to-location map:\\n', '60 56 37\\n', '56 93 4']\n"
     ]
    }
   ],
   "source": [
    "print(lines)"
   ]
  }
 ],
 "metadata": {
  "kernelspec": {
   "display_name": "whisper",
   "language": "python",
   "name": "whisper"
  },
  "language_info": {
   "codemirror_mode": {
    "name": "ipython",
    "version": 3
   },
   "file_extension": ".py",
   "mimetype": "text/x-python",
   "name": "python",
   "nbconvert_exporter": "python",
   "pygments_lexer": "ipython3",
   "version": "3.8.13"
  }
 },
 "nbformat": 4,
 "nbformat_minor": 2
}
