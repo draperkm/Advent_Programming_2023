{
 "cells": [
  {
   "cell_type": "code",
   "execution_count": 186,
   "metadata": {},
   "outputs": [
    {
     "name": "stdout",
     "output_type": "stream",
     "text": [
      "initial grid: ['O....#....', 'O.OO#....#', '.....##...', 'OO.#O....O', '.O.....O#.', 'O.#..O.#.#', '..O..#O..O', '.......O..', '#....###..', '#OO..#....']\n",
      "transpo grid; ['OO.O.O..##', '...OO....O', '.O...#O..O', '.O.#......', '.#.O......', '#.#..O#.##', '..#...O.#.', '....O#.O#.', '....#.....', '.#.O.#O...']\n"
     ]
    }
   ],
   "source": [
    "with open(\"input2.txt\") as f:\n",
    "    grid = [line.strip() for line in f]\n",
    "print(f'initial grid: {grid}')\n",
    "# Transpose the grid\n",
    "grid = list(map(\"\".join, zip(*grid)))\n",
    "\n",
    "print(f'transpo grid; {grid}')"
   ]
  },
  {
   "cell_type": "markdown",
   "metadata": {},
   "source": [
    "## Zip function:\n",
    "\n",
    "Joins corresponding elements of each element of a list"
   ]
  },
  {
   "cell_type": "code",
   "execution_count": 187,
   "metadata": {},
   "outputs": [
    {
     "name": "stdout",
     "output_type": "stream",
     "text": [
      "After splitting rows by '#': ['OO.O.O..', '', '']\n",
      "After splitting rows by '#': ['...OO....O']\n",
      "After splitting rows by '#': ['.O...', 'O..O']\n",
      "After splitting rows by '#': ['.O.', '......']\n",
      "After splitting rows by '#': ['.', '.O......']\n",
      "After splitting rows by '#': ['', '.', '..O', '.', '', '']\n",
      "After splitting rows by '#': ['..', '...O.', '.']\n",
      "After splitting rows by '#': ['....O', '.O', '.']\n",
      "After splitting rows by '#': ['....', '.....']\n",
      "After splitting rows by '#': ['.', '.O.', 'O...']\n"
     ]
    }
   ],
   "source": [
    "# Step 1: Split each row by '#'\n",
    "split_rows = [row.split(\"#\") for row in grid]\n",
    "for i in split_rows:\n",
    "    print(\"After splitting rows by '#':\", i)"
   ]
  },
  {
   "cell_type": "code",
   "execution_count": 176,
   "metadata": {},
   "outputs": [
    {
     "name": "stdout",
     "output_type": "stream",
     "text": [
      "After sorting each segment in reverse: ['OOOO....', '', '']\n",
      "After sorting each segment in reverse: ['OOO.......']\n",
      "After sorting each segment in reverse: ['O....', 'OO..']\n",
      "After sorting each segment in reverse: ['O..', '......']\n",
      "After sorting each segment in reverse: ['.', 'O.......']\n",
      "After sorting each segment in reverse: ['', '.', 'O..', '.', '', '']\n",
      "After sorting each segment in reverse: ['..', 'O....', '.']\n",
      "After sorting each segment in reverse: ['O....', 'O.', '.']\n",
      "After sorting each segment in reverse: ['....', '.....']\n",
      "After sorting each segment in reverse: ['.', 'O..', 'O...']\n"
     ]
    }
   ],
   "source": [
    "# Step 2: Sort each segment in reverse order\n",
    "sorted_segments = [[\"\".join(sorted(list(segment), reverse=True)) for segment in row] for row in split_rows]\n",
    "\n",
    "for i in sorted_segments:\n",
    "    print(\"After sorting each segment in reverse:\", i)\n",
    "\n"
   ]
  },
  {
   "cell_type": "code",
   "execution_count": 188,
   "metadata": {},
   "outputs": [
    {
     "name": "stdout",
     "output_type": "stream",
     "text": [
      "After joining the segments with '#': OOOO....##\n",
      "After joining the segments with '#': OOO.......\n",
      "After joining the segments with '#': O....#OO..\n",
      "After joining the segments with '#': O..#......\n",
      "After joining the segments with '#': .#O.......\n",
      "After joining the segments with '#': #.#O..#.##\n",
      "After joining the segments with '#': ..#O....#.\n",
      "After joining the segments with '#': O....#O.#.\n",
      "After joining the segments with '#': ....#.....\n",
      "After joining the segments with '#': .#O..#O...\n"
     ]
    }
   ],
   "source": [
    "# Step 3: Join the sorted segments back with '#'\n",
    "joined_rows = [\"#\".join(row) for row in sorted_segments]\n",
    "\n",
    "for i in joined_rows:\n",
    "    print(\"After joining the segments with '#':\", i)\n"
   ]
  },
  {
   "cell_type": "code",
   "execution_count": 178,
   "metadata": {},
   "outputs": [
    {
     "name": "stdout",
     "output_type": "stream",
     "text": [
      "Final processed grid: OOOO....##\n",
      "Final processed grid: OOO.......\n",
      "Final processed grid: O....#OO..\n",
      "Final processed grid: O..#......\n",
      "Final processed grid: .#O.......\n",
      "Final processed grid: #.#O..#.##\n",
      "Final processed grid: ..#O....#.\n",
      "Final processed grid: O....#O.#.\n",
      "Final processed grid: ....#.....\n",
      "Final processed grid: .#O..#O...\n"
     ]
    }
   ],
   "source": [
    "# Step 4: Reconstruct the grid\n",
    "grid = joined_rows\n",
    "\n",
    "for i in grid:\n",
    "    print(\"Final processed grid:\", i)"
   ]
  },
  {
   "cell_type": "code",
   "execution_count": 180,
   "metadata": {},
   "outputs": [
    {
     "name": "stdout",
     "output_type": "stream",
     "text": [
      "After zipping (transposing) the grid: [('O', 'O', 'O', 'O', '.', '#', '.', 'O', '.', '.'), ('O', 'O', '.', '.', '#', '.', '.', '.', '.', '#'), ('O', 'O', '.', '.', 'O', '#', '#', '.', '.', 'O'), ('O', '.', '.', '#', '.', 'O', 'O', '.', '.', '.'), ('.', '.', '.', '.', '.', '.', '.', '.', '#', '.'), ('.', '.', '#', '.', '.', '.', '.', '#', '.', '#'), ('.', '.', 'O', '.', '.', '#', '.', 'O', '.', 'O'), ('.', '.', 'O', '.', '.', '.', '.', '.', '.', '.'), ('#', '.', '.', '.', '.', '#', '#', '#', '.', '.'), ('#', '.', '.', '.', '.', '#', '.', '.', '.', '.')]\n"
     ]
    }
   ],
   "source": [
    "# Step 1: Unpack the rows and zip them\n",
    "zipped_rows = zip(*grid)\n",
    "print(\"After zipping (transposing) the grid:\", list(zipped_rows))\n",
    "\n",
    "# Resetting the zip object as it gets exhausted after use\n",
    "zipped_rows = zip(*grid)\n"
   ]
  },
  {
   "cell_type": "code",
   "execution_count": 181,
   "metadata": {},
   "outputs": [
    {
     "name": "stdout",
     "output_type": "stream",
     "text": [
      "After joining each tuple into a string: ['OOOO.#.O..', 'OO..#....#', 'OO..O##..O', 'O..#.OO...', '........#.', '..#....#.#', '..O..#.O.O', '..O.......', '#....###..', '#....#....']\n"
     ]
    }
   ],
   "source": [
    "# Step 2: Join the tuples into strings\n",
    "joined_strings = map(\"\".join, zipped_rows)\n",
    "print(\"After joining each tuple into a string:\", list(joined_strings))\n",
    "\n",
    "# Resetting the map object as it gets exhausted after use\n",
    "zipped_rows = zip(*grid)\n",
    "joined_strings = map(\"\".join, zipped_rows)\n",
    "\n"
   ]
  },
  {
   "cell_type": "code",
   "execution_count": 182,
   "metadata": {},
   "outputs": [
    {
     "name": "stdout",
     "output_type": "stream",
     "text": [
      "Final transposed grid: ['OOOO.#.O..', 'OO..#....#', 'OO..O##..O', 'O..#.OO...', '........#.', '..#....#.#', '..O..#.O.O', '..O.......', '#....###..', '#....#....']\n"
     ]
    }
   ],
   "source": [
    "# Step 3: Convert the map object to a list\n",
    "grid = list(joined_strings)\n",
    "print(\"Final transposed grid:\", grid)"
   ]
  },
  {
   "cell_type": "code",
   "execution_count": 183,
   "metadata": {},
   "outputs": [
    {
     "name": "stdout",
     "output_type": "stream",
     "text": [
      "136\n"
     ]
    }
   ],
   "source": [
    "print(sum(row.count(\"O\")* (len(grid) - r) for r, row in enumerate(grid)))"
   ]
  }
 ],
 "metadata": {
  "kernelspec": {
   "display_name": "whisper",
   "language": "python",
   "name": "whisper"
  },
  "language_info": {
   "codemirror_mode": {
    "name": "ipython",
    "version": 3
   },
   "file_extension": ".py",
   "mimetype": "text/x-python",
   "name": "python",
   "nbconvert_exporter": "python",
   "pygments_lexer": "ipython3",
   "version": "3.8.13"
  }
 },
 "nbformat": 4,
 "nbformat_minor": 2
}
