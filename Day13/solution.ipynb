{
 "cells": [
  {
   "cell_type": "code",
   "execution_count": 92,
   "metadata": {},
   "outputs": [
    {
     "name": "stdout",
     "output_type": "stream",
     "text": [
      "[['#', '.', '#', '#', '.', '.', '#', '#', '.'], ['.', '.', '#', '.', '#', '#', '.', '#', '.'], ['#', '#', '.', '.', '.', '.', '.', '.', '#'], ['#', '#', '.', '.', '.', '.', '.', '.', '#'], ['.', '.', '#', '.', '#', '#', '.', '#', '.'], ['.', '.', '#', '#', '.', '.', '#', '#', '.'], ['#', '.', '#', '.', '#', '#', '.', '#', '.']]\n"
     ]
    }
   ],
   "source": [
    "# read the input\n",
    "with open(\"input2.txt\", \"r\") as file:\n",
    "    lines = file.readlines()\n",
    "\n",
    "# Create an empty matrix to store the characters\n",
    "matrix = []\n",
    "\n",
    "# Loop through each line\n",
    "for line in lines:\n",
    "    # Remove any trailing newline characters\n",
    "    line = line.rstrip()\n",
    "    # Create an empty list to store the characters in the current line\n",
    "    row = []\n",
    "    # Loop through each character in the line\n",
    "    for char in line:\n",
    "        # Append the character to the current row list\n",
    "        row.append(char)\n",
    "    # Append the current row list to the matrix\n",
    "    matrix.append(row)\n",
    "\n",
    "# Print the matrix\n",
    "print(matrix)\n"
   ]
  },
  {
   "cell_type": "code",
   "execution_count": 192,
   "metadata": {},
   "outputs": [
    {
     "name": "stdout",
     "output_type": "stream",
     "text": [
      "[['#', '.', '#', '#', '.', '.', '#', '#', '.'], ['.', '.', '#', '.', '#', '#', '.', '#', '.'], ['#', '#', '.', '.', '.', '.', '.', '.', '#'], ['#', '#', '.', '.', '.', '.', '.', '.', '#'], ['.', '.', '#', '.', '#', '#', '.', '#', '.'], ['.', '.', '#', '#', '.', '.', '#', '#', '.'], ['#', '.', '#', '.', '#', '#', '.', '#', '.']]\n",
      "[['#', '.', '.', '.', '#', '#', '.', '.', '#'], ['#', '.', '.', '.', '.', '#', '.', '.', '#'], ['.', '.', '#', '#', '.', '.', '#', '#', '#'], ['#', '#', '#', '#', '#', '.', '#', '#', '.'], ['#', '#', '#', '#', '#', '.', '#', '#', '.'], ['.', '.', '#', '#', '.', '.', '#', '#', '#'], ['#', '.', '.', '.', '.', '#', '.', '.', '#']]\n"
     ]
    }
   ],
   "source": [
    "# Open the file and read its contents\n",
    "with open(\"input2.txt\", \"r\") as file:\n",
    "    file_contents = file.read()\n",
    "\n",
    "# Split the file contents by double line breaks to separate each matrix\n",
    "matrices_str = file_contents.split('\\n\\n')\n",
    "\n",
    "# Initialize a list to hold all matrices\n",
    "matrices = []\n",
    "\n",
    "# Convert each matrix string into a list of lists (each row is a list of characters)\n",
    "for matrix_str in matrices_str:\n",
    "    # Split the matrix string into lines\n",
    "    lines = matrix_str.split('\\n')\n",
    "    # Create an empty matrix to store the characters\n",
    "    matrix = []\n",
    "    # Loop through each line\n",
    "    for line in lines:\n",
    "        # Remove any trailing newline characters\n",
    "        line = line.rstrip()\n",
    "        # Convert the line into a list of characters\n",
    "        row = list(line)\n",
    "        # Append the row list to the matrix\n",
    "        matrix.append(row)\n",
    "    # Append the matrix to the list of matrices\n",
    "    matrices.append(matrix)\n",
    "\n",
    "for i in matrices:\n",
    "    print(i)\n",
    "\n"
   ]
  },
  {
   "cell_type": "code",
   "execution_count": 227,
   "metadata": {},
   "outputs": [
    {
     "name": "stdout",
     "output_type": "stream",
     "text": [
      "#...##..#\n",
      "#....#..#\n",
      "..##..###\n",
      "#####.##.\n",
      "#####.##.\n",
      "..##..###\n",
      "#....#..#\n"
     ]
    }
   ],
   "source": [
    "# Create an empty list to store the configuration string\n",
    "config1 = []\n",
    "\n",
    "# Loop through each column in the transposed matrix\n",
    "for column in matrices[1]:\n",
    "    # Join the characters in the column to a single string\n",
    "    column_string = ''.join(char for char in column)\n",
    "    # Append the column string to the configuration list\n",
    "    config1.append(column_string)\n",
    "\n",
    "for i in config1:\n",
    "    print(i)\n",
    "    \n"
   ]
  },
  {
   "cell_type": "code",
   "execution_count": 228,
   "metadata": {},
   "outputs": [
    {
     "name": "stdout",
     "output_type": "stream",
     "text": [
      "#.##.##\n",
      "..##...\n",
      ".####..\n",
      ".####..\n",
      "..##..#\n",
      "#....##\n",
      ".####..\n",
      ".####..\n",
      "##..###\n"
     ]
    }
   ],
   "source": [
    "def rotate_matrix(matrix):\n",
    "  # Transpose the matrix to swap rows and columns\n",
    "  transposed_matrix = list(zip(*matrix))\n",
    "  # Slice the columns in reverse order to achieve rotation\n",
    "  rotated_matrix = [row[::-1] for row in transposed_matrix]\n",
    "  rotated_matrix_2 = []\n",
    "  for i in rotated_matrix:\n",
    "      rotated_matrix_2.append(''.join(i))\n",
    "  return rotated_matrix_2\n",
    "\n",
    "rotated_matrix = rotate_matrix(matrices[1])\n",
    "\n",
    "for i in rotated_matrix:\n",
    "    print(i)\n"
   ]
  },
  {
   "cell_type": "code",
   "execution_count": 231,
   "metadata": {},
   "outputs": [],
   "source": [
    "# find a perfect reflection between two consecutive lines, either horizontally or vertically\n",
    "import numpy as np\n",
    "\n",
    "def mirror(arr):\n",
    "    for i in range(0, len(arr)-1):\n",
    "        h = 0\n",
    "        k = 0\n",
    "        z = 0\n",
    "        if i <= len(arr)-1:\n",
    "            print(f'{arr[i]} == {arr[i+1]}')\n",
    "            c = True\n",
    "            if arr[i][0] == arr[i+1][0]:\n",
    "                while c:\n",
    "                    #print(f'Inizio: 1')\n",
    "                    h += 1\n",
    "                    x = 1\n",
    "                    for j in range(i, 0, -1):\n",
    "                        #print('Due 2')\n",
    "                        k = j - 1\n",
    "                        z = i + 1 + x\n",
    "                        #print(j,k,z)\n",
    "                        if k >= 0 and z < len(arr):\n",
    "                            if arr[k][0] == arr[z][0]:\n",
    "                                #print(arr[k][0],arr[z][0])\n",
    "                                h += 1\n",
    "                                #print(f'H:{h}')\n",
    "                            else: \n",
    "                                c = False\n",
    "                                break\n",
    "                            x += 1\n",
    "                        else:\n",
    "                            c = False\n",
    "                            break\n",
    "                        #x += 1\n",
    "                break\n",
    "            else:\n",
    "                h = 0\n",
    "    return h"
   ]
  },
  {
   "cell_type": "code",
   "execution_count": 239,
   "metadata": {},
   "outputs": [
    {
     "data": {
      "text/plain": [
       "['#...##..#',\n",
       " '#....#..#',\n",
       " '..##..###',\n",
       " '#####.##.',\n",
       " '#####.##.',\n",
       " '..##..###',\n",
       " '#....#..#']"
      ]
     },
     "execution_count": 239,
     "metadata": {},
     "output_type": "execute_result"
    }
   ],
   "source": [
    "config1"
   ]
  },
  {
   "cell_type": "code",
   "execution_count": 195,
   "metadata": {},
   "outputs": [
    {
     "name": "stdout",
     "output_type": "stream",
     "text": [
      "[['#', '.', '#', '#', '.', '.', '#', '#', '.'], ['.', '.', '#', '.', '#', '#', '.', '#', '.'], ['#', '#', '.', '.', '.', '.', '.', '.', '#'], ['#', '#', '.', '.', '.', '.', '.', '.', '#'], ['.', '.', '#', '.', '#', '#', '.', '#', '.'], ['.', '.', '#', '#', '.', '.', '#', '#', '.'], ['#', '.', '#', '.', '#', '#', '.', '#', '.']]\n"
     ]
    },
    {
     "ename": "KeyboardInterrupt",
     "evalue": "",
     "output_type": "error",
     "traceback": [
      "\u001b[0;31m---------------------------------------------------------------------------\u001b[0m",
      "\u001b[0;31mKeyboardInterrupt\u001b[0m                         Traceback (most recent call last)",
      "\u001b[1;32m/Users/jeancharles/Desktop/NLP:Computer Vision-Qualification goals/AoC2023/Advent_Programming_2023/Day13/solution.ipynb Cell 6\u001b[0m line \u001b[0;36m1\n\u001b[1;32m     <a href='vscode-notebook-cell:/Users/jeancharles/Desktop/NLP%3AComputer%20Vision-Qualification%20goals/AoC2023/Advent_Programming_2023/Day13/solution.ipynb#X13sZmlsZQ%3D%3D?line=13'>14</a>\u001b[0m     \u001b[39m# Append the column string to the configuration list\u001b[39;00m\n\u001b[1;32m     <a href='vscode-notebook-cell:/Users/jeancharles/Desktop/NLP%3AComputer%20Vision-Qualification%20goals/AoC2023/Advent_Programming_2023/Day13/solution.ipynb#X13sZmlsZQ%3D%3D?line=14'>15</a>\u001b[0m     regular\u001b[39m.\u001b[39mappend(column_string)\n\u001b[0;32m---> <a href='vscode-notebook-cell:/Users/jeancharles/Desktop/NLP%3AComputer%20Vision-Qualification%20goals/AoC2023/Advent_Programming_2023/Day13/solution.ipynb#X13sZmlsZQ%3D%3D?line=15'>16</a>\u001b[0m conf\u001b[39m.\u001b[39mappend([\u001b[39m'\u001b[39m\u001b[39mh\u001b[39m\u001b[39m'\u001b[39m, mirror(regular)])\n\u001b[1;32m     <a href='vscode-notebook-cell:/Users/jeancharles/Desktop/NLP%3AComputer%20Vision-Qualification%20goals/AoC2023/Advent_Programming_2023/Day13/solution.ipynb#X13sZmlsZQ%3D%3D?line=17'>18</a>\u001b[0m \u001b[39m# get special transposed matrix\u001b[39;00m\n\u001b[1;32m     <a href='vscode-notebook-cell:/Users/jeancharles/Desktop/NLP%3AComputer%20Vision-Qualification%20goals/AoC2023/Advent_Programming_2023/Day13/solution.ipynb#X13sZmlsZQ%3D%3D?line=18'>19</a>\u001b[0m rotated_matrix \u001b[39m=\u001b[39m rotate_matrix(matrices[\u001b[39m1\u001b[39m])\n",
      "\u001b[1;32m/Users/jeancharles/Desktop/NLP:Computer Vision-Qualification goals/AoC2023/Advent_Programming_2023/Day13/solution.ipynb Cell 6\u001b[0m line \u001b[0;36m1\n\u001b[1;32m     <a href='vscode-notebook-cell:/Users/jeancharles/Desktop/NLP%3AComputer%20Vision-Qualification%20goals/AoC2023/Advent_Programming_2023/Day13/solution.ipynb#X13sZmlsZQ%3D%3D?line=14'>15</a>\u001b[0m h \u001b[39m+\u001b[39m\u001b[39m=\u001b[39m \u001b[39m1\u001b[39m\n\u001b[1;32m     <a href='vscode-notebook-cell:/Users/jeancharles/Desktop/NLP%3AComputer%20Vision-Qualification%20goals/AoC2023/Advent_Programming_2023/Day13/solution.ipynb#X13sZmlsZQ%3D%3D?line=15'>16</a>\u001b[0m x \u001b[39m=\u001b[39m \u001b[39m1\u001b[39m\n\u001b[0;32m---> <a href='vscode-notebook-cell:/Users/jeancharles/Desktop/NLP%3AComputer%20Vision-Qualification%20goals/AoC2023/Advent_Programming_2023/Day13/solution.ipynb#X13sZmlsZQ%3D%3D?line=16'>17</a>\u001b[0m \u001b[39mfor\u001b[39;00m j \u001b[39min\u001b[39;00m \u001b[39mrange\u001b[39;49m(i, \u001b[39m0\u001b[39;49m, \u001b[39m-\u001b[39;49m\u001b[39m1\u001b[39;49m):\n\u001b[1;32m     <a href='vscode-notebook-cell:/Users/jeancharles/Desktop/NLP%3AComputer%20Vision-Qualification%20goals/AoC2023/Advent_Programming_2023/Day13/solution.ipynb#X13sZmlsZQ%3D%3D?line=17'>18</a>\u001b[0m     \u001b[39m#print('Due 2')\u001b[39;00m\n\u001b[1;32m     <a href='vscode-notebook-cell:/Users/jeancharles/Desktop/NLP%3AComputer%20Vision-Qualification%20goals/AoC2023/Advent_Programming_2023/Day13/solution.ipynb#X13sZmlsZQ%3D%3D?line=18'>19</a>\u001b[0m     k \u001b[39m=\u001b[39m j \u001b[39m-\u001b[39m \u001b[39m1\u001b[39m\n\u001b[1;32m     <a href='vscode-notebook-cell:/Users/jeancharles/Desktop/NLP%3AComputer%20Vision-Qualification%20goals/AoC2023/Advent_Programming_2023/Day13/solution.ipynb#X13sZmlsZQ%3D%3D?line=19'>20</a>\u001b[0m     z \u001b[39m=\u001b[39m i \u001b[39m+\u001b[39m \u001b[39m1\u001b[39m \u001b[39m+\u001b[39m x\n",
      "\u001b[0;31mKeyboardInterrupt\u001b[0m: "
     ]
    }
   ],
   "source": [
    "total = []\n",
    "# create loop fed by each element from input\n",
    "##for i in range(0, len(matrices)):\n",
    "print(matrices[0])\n",
    "\n",
    "conf = []\n",
    "\n",
    "regular = []\n",
    "# Loop through each column in the transposed matrix\n",
    "for column in matrices[1]:\n",
    "    # Join the characters in the column to a single string\n",
    "    column_string = []\n",
    "    column_string = ''.join(char for char in column)\n",
    "    # Append the column string to the configuration list\n",
    "    regular.append(column_string)\n",
    "conf.append(['h', mirror(regular)])\n",
    "\n",
    "# get special transposed matrix\n",
    "rotated_matrix = rotate_matrix(matrices[1])\n",
    "conf.append(['v', mirror(rotated_matrix)])\n",
    "\n",
    "# Initialize variables to keep track of the element with the largest number\n",
    "max_number = -float('inf')  # Set to negative infinity initially\n",
    "max_element = None\n",
    "\n",
    "# Iterate through the array and find the element with the largest number\n",
    "for element in conf:\n",
    "    if element[1] > max_number:\n",
    "        max_number = element[1]\n",
    "        max_element = element\n",
    "\n",
    "# append max element to total result vector\n",
    "print(f'maxxx: {max_element}')\n",
    "total.append(max_element)\n"
   ]
  },
  {
   "cell_type": "markdown",
   "metadata": {},
   "source": [
    "## Solution 1"
   ]
  },
  {
   "cell_type": "code",
   "execution_count": 242,
   "metadata": {},
   "outputs": [
    {
     "name": "stdout",
     "output_type": "stream",
     "text": [
      "30158\n"
     ]
    }
   ],
   "source": [
    "def find_mirror(grid):\n",
    "    for r in range(1, len(grid)):\n",
    "        above = grid[:r][::-1]\n",
    "        below = grid[r:]\n",
    "        \n",
    "        above = above[:len(below)]\n",
    "        below = below[:len(above)]\n",
    "        \n",
    "        if above == below:\n",
    "            return r\n",
    "        \n",
    "    return 0\n",
    "\n",
    "total = 0\n",
    "\n",
    "for block in open(\"input.txt\", \"r\").read().split(\"\\n\\n\"):\n",
    "    grid = block.splitlines()\n",
    "\n",
    "    row = find_mirror(grid)\n",
    "    total += row * 100\n",
    "\n",
    "    col = find_mirror(list(zip(*grid)))\n",
    "    total += col\n",
    "\n",
    "print(total)\n",
    "\n",
    "'''block from: https://github.com/hyper-neutrino/advent-of-code/blob/main/2023/day13p1.py'''"
   ]
  },
  {
   "cell_type": "markdown",
   "metadata": {},
   "source": [
    "## Solution 2"
   ]
  },
  {
   "cell_type": "code",
   "execution_count": 243,
   "metadata": {},
   "outputs": [
    {
     "name": "stdout",
     "output_type": "stream",
     "text": [
      "36474\n"
     ]
    }
   ],
   "source": [
    "def find_mirror(grid):\n",
    "    for r in range(1, len(grid)):\n",
    "        above = grid[:r][::-1]\n",
    "        below = grid[r:]\n",
    "        \n",
    "        if sum(sum(0 if a == b else 1 for a, b in zip(x, y)) for x, y in zip(above, below)) == 1:\n",
    "            return r\n",
    "\n",
    "    return 0\n",
    "\n",
    "total = 0\n",
    "\n",
    "for block in open(\"input.txt\", \"r\").read().split(\"\\n\\n\"):\n",
    "    grid = block.splitlines()\n",
    "\n",
    "    row = find_mirror(grid)\n",
    "    total += row * 100\n",
    "\n",
    "    col = find_mirror(list(zip(*grid)))\n",
    "    total += col\n",
    "\n",
    "print(total)\n",
    "\n",
    "'''block from: https://github.com/hyper-neutrino/advent-of-code/blob/main/2023/day13p2.py'''"
   ]
  }
 ],
 "metadata": {
  "kernelspec": {
   "display_name": "whisper",
   "language": "python",
   "name": "whisper"
  },
  "language_info": {
   "codemirror_mode": {
    "name": "ipython",
    "version": 3
   },
   "file_extension": ".py",
   "mimetype": "text/x-python",
   "name": "python",
   "nbconvert_exporter": "python",
   "pygments_lexer": "ipython3",
   "version": "3.8.13"
  }
 },
 "nbformat": 4,
 "nbformat_minor": 2
}
