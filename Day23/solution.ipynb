{
 "cells": [
  {
   "cell_type": "code",
   "execution_count": 9,
   "metadata": {},
   "outputs": [
    {
     "name": "stdout",
     "output_type": "stream",
     "text": [
      "2359\n"
     ]
    }
   ],
   "source": [
    "def read_map(filename):\n",
    "    with open(filename, 'r') as file:\n",
    "        map = [list(line.strip()) for line in file]\n",
    "    return map\n",
    "\n",
    "def find_start(map):\n",
    "    for i in range(len(map[0])):\n",
    "        if map[0][i] == '.':\n",
    "            return (0, i)\n",
    "\n",
    "def find_end(map):\n",
    "    for i in range(len(map[-1])):\n",
    "        if map[-1][i] == '.':\n",
    "            return (len(map) - 1, i)\n",
    "\n",
    "def get_neighbors(map, current):\n",
    "    directions = {'^': (-1, 0), '>': (0, 1), 'v': (1, 0), '<': (0, -1)}\n",
    "    x, y = current\n",
    "    if map[x][y] in directions:\n",
    "        dx, dy = directions[map[x][y]]\n",
    "        nx, ny = x + dx, y + dy\n",
    "        if 0 <= nx < len(map) and 0 <= ny < len(map[0]) and map[nx][ny] != '#':\n",
    "            return [(nx, ny)]\n",
    "    else:\n",
    "        neighbors = []\n",
    "        for dx, dy in [(-1, 0), (1, 0), (0, -1), (0, 1)]:\n",
    "            nx, ny = x + dx, y + dy\n",
    "            if 0 <= nx < len(map) and 0 <= ny < len(map[0]) and map[nx][ny] != '#':\n",
    "                neighbors.append((nx, ny))\n",
    "        return neighbors\n",
    "\n",
    "def dfs(map, current, end, visited):\n",
    "    if current == end:\n",
    "        return 1\n",
    "    visited.add(current)\n",
    "    max_length = 0\n",
    "    for neighbor in get_neighbors(map, current):\n",
    "        if neighbor not in visited:\n",
    "            length = 1 + dfs(map, neighbor, end, visited)\n",
    "            max_length = max(max_length, length)\n",
    "    visited.remove(current)\n",
    "    return max_length\n",
    "\n",
    "map = read_map('input.txt')\n",
    "start = find_start(map)\n",
    "end = find_end(map)\n",
    "visited = set()\n",
    "length = dfs(map, start, end, visited)\n",
    "print(length)\n",
    "\n",
    "'''solved with copilot'''"
   ]
  },
  {
   "cell_type": "code",
   "execution_count": 21,
   "metadata": {},
   "outputs": [
    {
     "name": "stdout",
     "output_type": "stream",
     "text": [
      "6586\n"
     ]
    }
   ],
   "source": [
    "grid = open(0).read().splitlines()\n",
    "\n",
    "start = (0, grid[0].index(\".\"))\n",
    "end = (len(grid) - 1, grid[-1].index(\".\"))\n",
    "\n",
    "points = [start, end]\n",
    "\n",
    "for r, row in enumerate(grid):\n",
    "    for c, ch in enumerate(row):\n",
    "        if ch == \"#\":\n",
    "            continue\n",
    "        neighbors = 0\n",
    "        for nr, nc in [(r - 1, c), (r + 1, c), (r, c - 1), (r, c + 1)]:\n",
    "            if 0 <= nr < len(grid) and 0 <= nc < len(grid[0]) and grid[nr][nc] != \"#\":\n",
    "                neighbors += 1\n",
    "        if neighbors >= 3:\n",
    "            points.append((r, c))\n",
    "\n",
    "graph = {pt: {} for pt in points}\n",
    "\n",
    "for sr, sc in points:\n",
    "    stack = [(0, sr, sc)]\n",
    "    seen = {(sr, sc)}\n",
    "\n",
    "    while stack:\n",
    "        n, r, c = stack.pop()\n",
    "        \n",
    "        if n != 0 and (r, c) in points:\n",
    "            graph[(sr, sc)][(r, c)] = n\n",
    "            continue\n",
    "\n",
    "        for dr, dc in [(-1, 0), (1, 0), (0, -1), (0, 1)]:\n",
    "            nr = r + dr\n",
    "            nc = c + dc\n",
    "            if 0 <= nr < len(grid) and 0 <= nc < len(grid[0]) and grid[nr][nc] != \"#\" and (nr, nc) not in seen:\n",
    "                stack.append((n + 1, nr, nc))\n",
    "                seen.add((nr, nc))\n",
    "\n",
    "seen = set()\n",
    "\n",
    "def dfs(pt):\n",
    "    if pt == end:\n",
    "        return 0\n",
    "\n",
    "    m = -float(\"inf\")\n",
    "\n",
    "    seen.add(pt)\n",
    "    for nx in graph[pt]:\n",
    "        if nx not in seen:\n",
    "            m = max(m, dfs(nx) + graph[pt][nx])\n",
    "    seen.remove(pt)\n",
    "\n",
    "    return m\n",
    "\n",
    "print(dfs(start))\n",
    "\n",
    "'''from https://github.com/hyper-neutrino/advent-of-code/blob/main/2023/day23p2.py'''"
   ]
  }
 ],
 "metadata": {
  "kernelspec": {
   "display_name": "whisper",
   "language": "python",
   "name": "whisper"
  },
  "language_info": {
   "codemirror_mode": {
    "name": "ipython",
    "version": 3
   },
   "file_extension": ".py",
   "mimetype": "text/x-python",
   "name": "python",
   "nbconvert_exporter": "python",
   "pygments_lexer": "ipython3",
   "version": "3.8.13"
  }
 },
 "nbformat": 4,
 "nbformat_minor": 2
}
