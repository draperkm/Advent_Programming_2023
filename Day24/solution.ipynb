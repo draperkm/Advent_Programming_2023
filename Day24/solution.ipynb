{
 "cells": [
  {
   "cell_type": "code",
   "execution_count": 1,
   "metadata": {},
   "outputs": [
    {
     "name": "stdout",
     "output_type": "stream",
     "text": [
      "15107\n"
     ]
    }
   ],
   "source": [
    "class Hailstone:\n",
    "    def __init__(self, sx, sy, sz, vx, vy, vz):\n",
    "        self.sx = sx\n",
    "        self.sy = sy\n",
    "        self.sz = sz\n",
    "        self.vx = vx\n",
    "        self.vy = vy\n",
    "        self.vz = vz\n",
    "        \n",
    "        self.a = vy\n",
    "        self.b = -vx\n",
    "        self.c = vy * sx - vx * sy\n",
    "    \n",
    "    def __repr__(self):\n",
    "        return \"Hailstone{\" + f\"a={self.a}, b={self.b}, c={self.c}\" + \"}\"\n",
    "\n",
    "hailstones = [Hailstone(*map(int, line.replace(\"@\", \",\").split(\",\"))) for line in open('input.txt')]\n",
    "\n",
    "total = 0\n",
    "\n",
    "for i, hs1 in enumerate(hailstones):\n",
    "    for hs2 in hailstones[:i]:\n",
    "        a1, b1, c1 = hs1.a, hs1.b, hs1.c\n",
    "        a2, b2, c2 = hs2.a, hs2.b, hs2.c\n",
    "        if a1 * b2 == b1 * a2:\n",
    "            continue\n",
    "        x = (c1 * b2 - c2 * b1) / (a1 * b2 - a2 * b1)\n",
    "        y = (c2 * a1 - c1 * a2) / (a1 * b2 - a2 * b1)\n",
    "        if 200000000000000 <= x <= 400000000000000 and 200000000000000 <= y <= 400000000000000:\n",
    "            if all((x - hs.sx) * hs.vx >= 0 and (y - hs.sy) * hs.vy >= 0 for hs in (hs1, hs2)):\n",
    "                total += 1\n",
    "\n",
    "print(total)\n",
    "\n",
    "'''solution from https://github.com/hyper-neutrino/advent-of-code/blob/main/2023/day24p1.py'''"
   ]
  },
  {
   "cell_type": "code",
   "execution_count": 2,
   "metadata": {},
   "outputs": [
    {
     "name": "stdout",
     "output_type": "stream",
     "text": [
      "856642398547748\n",
      "2\n"
     ]
    }
   ],
   "source": [
    "import sympy\n",
    "\n",
    "hailstones = [tuple(map(int, line.replace(\"@\", \",\").split(\",\"))) for line in open('input.txt')]\n",
    "\n",
    "xr, yr, zr, vxr, vyr, vzr = sympy.symbols(\"xr, yr, zr, vxr, vyr, vzr\")\n",
    "\n",
    "equations = []\n",
    "\n",
    "for i, (sx, sy, sz, vx, vy, vz) in enumerate(hailstones):\n",
    "    equations.append((xr - sx) * (vy - vyr) - (yr - sy) * (vx - vxr))\n",
    "    equations.append((yr - sy) * (vz - vzr) - (zr - sz) * (vy - vyr))\n",
    "    if i < 2:\n",
    "        continue\n",
    "    answers = [soln for soln in sympy.solve(equations) if all(x % 1 == 0 for x in soln.values())]\n",
    "    if len(answers) == 1:\n",
    "        break\n",
    "    \n",
    "answer = answers[0]\n",
    "\n",
    "print(answer[xr] + answer[yr] + answer[zr])\n",
    "print(i)\n",
    "\n",
    "'''solution from https://github.com/hyper-neutrino/advent-of-code/blob/main/2023/day24p2.py'''"
   ]
  }
 ],
 "metadata": {
  "kernelspec": {
   "display_name": "whisper",
   "language": "python",
   "name": "whisper"
  },
  "language_info": {
   "codemirror_mode": {
    "name": "ipython",
    "version": 3
   },
   "file_extension": ".py",
   "mimetype": "text/x-python",
   "name": "python",
   "nbconvert_exporter": "python",
   "pygments_lexer": "ipython3",
   "version": "3.8.13"
  }
 },
 "nbformat": 4,
 "nbformat_minor": 2
}
