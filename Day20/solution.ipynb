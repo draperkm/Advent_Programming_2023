{
 "cells": [
  {
   "cell_type": "code",
   "execution_count": 1,
   "metadata": {},
   "outputs": [],
   "source": [
    "from collections import deque\n",
    "\n",
    "class Module:\n",
    "    def __init__(self, name, type, outputs):\n",
    "        self.name = name\n",
    "        self.type = type\n",
    "        self.outputs = outputs\n",
    "        \n",
    "        if type == \"%\":\n",
    "            self.memory = \"off\"\n",
    "        else:\n",
    "            self.memory = {}\n",
    "    def __repr__(self):\n",
    "        return self.name + \"{type = \" + self.type + \", outputs=\" + \",\".join(self.outputs) + \", memory=\" + str(self.memory) + \"}\"\n",
    "            \n"
   ]
  },
  {
   "cell_type": "code",
   "execution_count": 48,
   "metadata": {},
   "outputs": [],
   "source": [
    "modules = {}\n",
    "broadcast_targets = []"
   ]
  },
  {
   "cell_type": "code",
   "execution_count": 49,
   "metadata": {},
   "outputs": [],
   "source": [
    "for line in open('input.txt'):\n",
    "    left, right = line.strip().split(\" -> \")\n",
    "    outputs = right.split(\", \")\n",
    "    if left == \"broadcaster\":\n",
    "        broadcast_targets = outputs\n",
    "    else:\n",
    "        type = left[0]\n",
    "        name = left[1:]\n",
    "        modules[name] = Module(name, type, outputs)"
   ]
  },
  {
   "cell_type": "code",
   "execution_count": 50,
   "metadata": {},
   "outputs": [],
   "source": [
    "for name, module in modules.items():\n",
    "    for output in module.outputs:\n",
    "        if output in modules and modules[output].type == \"&\":\n",
    "            modules[output].memory[name] = 'lo'"
   ]
  },
  {
   "cell_type": "code",
   "execution_count": 53,
   "metadata": {},
   "outputs": [
    {
     "name": "stdout",
     "output_type": "stream",
     "text": [
      "1020211150\n"
     ]
    }
   ],
   "source": [
    "lo = hi = 0\n",
    "\n",
    "for _ in range(1000):\n",
    "    lo += 1\n",
    "    q = deque([(\"broadcaster\", x, \"lo\") for x in broadcast_targets])\n",
    "    \n",
    "    while q:\n",
    "        origin, target, pulse = q.popleft()\n",
    "        if pulse == \"lo\":\n",
    "            lo += 1\n",
    "        else:\n",
    "            hi += 1\n",
    "    \n",
    "        if target not in modules:\n",
    "            continue\n",
    "        \n",
    "        module = modules[target]\n",
    "        \n",
    "        if module.type == '%':\n",
    "            if pulse == 'lo':\n",
    "                module.memory = \"on\" if module.memory == \"off\" else 'off'\n",
    "                outgoing = 'hi' if module.memory == 'on' else 'lo'\n",
    "                for x in module.outputs:\n",
    "                    q.append((module.name, x, outgoing))\n",
    "        else:\n",
    "            module.memory[origin] = pulse\n",
    "            outgoing = 'lo' if all(x == 'hi' for x in module.memory.values()) else 'hi'\n",
    "            for x in module.outputs:\n",
    "                q.append((module.name, x, outgoing))\n",
    "\n",
    "print(lo * hi)"
   ]
  },
  {
   "cell_type": "code",
   "execution_count": null,
   "metadata": {},
   "outputs": [],
   "source": [
    "import math\n",
    "from collections import deque\n",
    "\n",
    "class Module:\n",
    "    def __init__(self, name, type, outputs):\n",
    "        self.name = name\n",
    "        self.type = type\n",
    "        self.outputs = outputs\n",
    "\n",
    "        if type == \"%\":\n",
    "            self.memory = \"off\"\n",
    "        else:\n",
    "            self.memory = {}\n",
    "    def __repr__(self):\n",
    "        return self.name + \"{type=\" + self.type + \",outputs=\" + \",\".join(self.outputs) + \",memory=\" + str(self.memory) + \"}\"\n",
    "\n",
    "modules = {}\n",
    "broadcast_targets = []\n",
    "\n",
    "for line in open(\"input.txt\"):\n",
    "    left, right = line.strip().split(\" -> \")\n",
    "    outputs = right.split(\", \")\n",
    "    if left == \"broadcaster\":\n",
    "        broadcast_targets = outputs\n",
    "    else:\n",
    "        type = left[0]\n",
    "        name = left[1:]\n",
    "        modules[name] = Module(name, type, outputs)\n",
    "\n",
    "for name, module in modules.items():\n",
    "    for output in module.outputs:\n",
    "        if output in modules and modules[output].type == \"&\":\n",
    "            modules[output].memory[name] = \"lo\"\n",
    "\n",
    "(feed,) = [name for name, module in modules.items() if \"rx\" in module.outputs]\n",
    "\n",
    "cycle_lengths = {}\n",
    "seen = {name: 0 for name, module in modules.items() if feed in module.outputs}\n",
    "\n",
    "presses = 0\n",
    "\n",
    "while True:\n",
    "    presses += 1\n",
    "    q = deque([(\"broadcaster\", x, \"lo\") for x in broadcast_targets])\n",
    "    \n",
    "    while q:\n",
    "        origin, target, pulse = q.popleft()\n",
    "        \n",
    "        if target not in modules:\n",
    "            continue\n",
    "        \n",
    "        module = modules[target]\n",
    "        \n",
    "        if module.name == feed and pulse == \"hi\":\n",
    "            seen[origin] += 1\n",
    "\n",
    "            if origin not in cycle_lengths:\n",
    "                cycle_lengths[origin] = presses\n",
    "            else:\n",
    "                assert presses == seen[origin] * cycle_lengths[origin]\n",
    "                \n",
    "            if all(seen.values()):\n",
    "                x = 1\n",
    "                for cycle_length in cycle_lengths.values():\n",
    "                    x = x * cycle_length // math.gcd(x, cycle_length)\n",
    "                print(x)\n",
    "                exit(0)\n",
    "        \n",
    "        if module.type == \"%\":\n",
    "            if pulse == \"lo\":\n",
    "                module.memory = \"on\" if module.memory == \"off\" else \"off\"\n",
    "                outgoing = \"hi\" if module.memory == \"on\" else \"lo\"\n",
    "                for x in module.outputs:\n",
    "                    q.append((module.name, x, outgoing))\n",
    "        else:\n",
    "            module.memory[origin] = pulse\n",
    "            outgoing = \"lo\" if all(x == \"hi\" for x in module.memory.values()) else \"hi\"\n",
    "            for x in module.outputs:\n",
    "                q.append((module.name, x, outgoing))"
   ]
  },
  {
   "cell_type": "markdown",
   "metadata": {},
   "source": [
    "solutions from \n",
    "\n",
    "https://github.com/hyper-neutrino/advent-of-code/blob/main/2023/day20p1.py\n",
    "https://github.com/hyper-neutrino/advent-of-code/blob/main/2023/day20p2.py"
   ]
  }
 ],
 "metadata": {
  "kernelspec": {
   "display_name": "whisper",
   "language": "python",
   "name": "whisper"
  },
  "language_info": {
   "codemirror_mode": {
    "name": "ipython",
    "version": 3
   },
   "file_extension": ".py",
   "mimetype": "text/x-python",
   "name": "python",
   "nbconvert_exporter": "python",
   "pygments_lexer": "ipython3",
   "version": "3.8.13"
  }
 },
 "nbformat": 4,
 "nbformat_minor": 2
}
