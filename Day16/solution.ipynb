{
 "cells": [
  {
   "cell_type": "code",
   "execution_count": null,
   "metadata": {},
   "outputs": [],
   "source": [
    "with open(\"input2.txt\") as f:\n",
    "    lines = f.readlines()  # Read all lines from the file\n",
    "  \n",
    "#for i in lines:\n",
    "#    print(i)  # Print the elements of each line"
   ]
  },
  {
   "cell_type": "code",
   "execution_count": 8,
   "metadata": {},
   "outputs": [
    {
     "name": "stdout",
     "output_type": "stream",
     "text": [
      "6883\n"
     ]
    }
   ],
   "source": [
    "from collections import defaultdict\n",
    "\n",
    "RIGHT, LEFT, UP, DOWN = (1, 0), (-1, 0), (0, -1), (0, 1)\n",
    "\n",
    "MOVES = {\n",
    "    (\".\", RIGHT): [RIGHT],\n",
    "    (\".\", LEFT): [LEFT],\n",
    "    (\".\", UP): [UP],\n",
    "    (\".\", DOWN): [DOWN],\n",
    "\n",
    "    (\"-\", RIGHT): [RIGHT],\n",
    "    (\"-\", LEFT): [LEFT],\n",
    "    (\"-\", UP): [LEFT, RIGHT],\n",
    "    (\"-\", DOWN): [LEFT, RIGHT],\n",
    "\n",
    "    (\"|\", RIGHT): [UP, DOWN],\n",
    "    (\"|\", LEFT): [UP, DOWN],\n",
    "    (\"|\", UP): [UP],\n",
    "    (\"|\", DOWN): [DOWN],\n",
    "\n",
    "    (\"\\\\\", RIGHT): [DOWN],\n",
    "    (\"\\\\\", LEFT): [UP],\n",
    "    (\"\\\\\", UP): [LEFT],\n",
    "    (\"\\\\\", DOWN): [RIGHT],\n",
    "\n",
    "    (\"/\", RIGHT): [UP],\n",
    "    (\"/\", LEFT): [DOWN],\n",
    "    (\"/\", UP): [RIGHT],\n",
    "    (\"/\", DOWN): [LEFT],\n",
    "}\n",
    "\n",
    "with open('input.txt') as f:\n",
    "    tiles = [list(line.strip()) for line in f.readlines()]\n",
    "    \n",
    "    energized = defaultdict(set)\n",
    "\n",
    "    #Initializes the beams list with one beam starting outside the grid (at (-1, 0)) and moving RIGHT.\n",
    "    beams = [((-1,0), RIGHT)]\n",
    "\n",
    "    while len(beams) > 0:\n",
    "        \n",
    "        # Takes the last beam from beams and calculates its next position based on its current direction.\n",
    "        beam_pos, dir = beams.pop()\n",
    "        x, y = (beam_pos[0] + dir[0], beam_pos[1] + dir[1])\n",
    "        \n",
    "        # Checks if the beam has moved outside the grid. If so, it skips to the next iteration.\n",
    "        if x < 0 or x >= len(tiles[0]) or y < 0 or y >= len(tiles):\n",
    "            # beam escapes\n",
    "            continue\n",
    "\n",
    "        # Checks if the current tile at position (x, y) has already been energized in this direction. If yes, it skips to avoid reprocessing.\n",
    "        if (x, y) in energized and dir in energized[(x, y)]:\n",
    "            # beam in this direction already passed\n",
    "            continue\n",
    "\n",
    "        energized[(x, y)].add(dir)\n",
    "\n",
    "        #This portion of the code is responsible for determining the next steps of a beam of light after it hits a tile and then updating the list of beams accordingly.\n",
    "        # in tiles prima accedi alla colonna e dopo alla riga, ecco perche' [y][x]\n",
    "        for new_dir in MOVES[(tiles[y][x], dir)]:\n",
    "            beams.append(((x, y), new_dir))\n",
    "\n",
    "    print(len(energized))"
   ]
  },
  {
   "cell_type": "markdown",
   "metadata": {},
   "source": [
    "## Solution 2"
   ]
  },
  {
   "cell_type": "code",
   "execution_count": null,
   "metadata": {},
   "outputs": [],
   "source": []
  }
 ],
 "metadata": {
  "kernelspec": {
   "display_name": "whisper",
   "language": "python",
   "name": "whisper"
  },
  "language_info": {
   "codemirror_mode": {
    "name": "ipython",
    "version": 3
   },
   "file_extension": ".py",
   "mimetype": "text/x-python",
   "name": "python",
   "nbconvert_exporter": "python",
   "pygments_lexer": "ipython3",
   "version": "3.8.13"
  }
 },
 "nbformat": 4,
 "nbformat_minor": 2
}
