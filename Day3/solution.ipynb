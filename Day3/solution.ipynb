{
 "cells": [
  {
   "cell_type": "code",
   "execution_count": 53,
   "metadata": {},
   "outputs": [
    {
     "name": "stdout",
     "output_type": "stream",
     "text": [
      "507214\n"
     ]
    }
   ],
   "source": [
    "with open(\"input.txt\") as fin:\n",
    "    data = fin.read()\n",
    "    lines = data.strip().split(\"\\n\")\n",
    "\n",
    "n = len(lines)\n",
    "m = len(lines[0])\n",
    "\n",
    "def is_symbol(i, j):\n",
    "    if not (0 <= i < n and 0 <= j < m):\n",
    "        return False\n",
    "    return lines[i][j] != \".\" and not lines[i][j].isdigit()\n",
    "\n",
    "ans = 0\n",
    "\n",
    "for i, line in enumerate(lines):\n",
    "    start = 0\n",
    "    j = 0\n",
    "    while j < m:\n",
    "        start = j\n",
    "        num = \"\"\n",
    "        while j < m and line[j].isdigit():\n",
    "            num += line[j]\n",
    "            j += 1\n",
    "        if num == \"\":\n",
    "            j += 1\n",
    "            continue\n",
    "        num = int(num)\n",
    "\n",
    "        # Number ended, look around\n",
    "        if is_symbol(i, start-1) or is_symbol(i, j):\n",
    "            ans += num\n",
    "            continue\n",
    "\n",
    "        for k in range(start-1, j+1):\n",
    "            if is_symbol(i-1, k) or is_symbol(i+1, k):\n",
    "                ans += num\n",
    "                break\n",
    "\n",
    "print(ans)\n",
    "\n",
    "'''Solution from https://github.com/womogenes/AoC-2023-Solutions/blob/main/day_03/day_03_p1.py'''"
   ]
  },
  {
   "cell_type": "markdown",
   "metadata": {},
   "source": [
    "## Part 2"
   ]
  },
  {
   "cell_type": "code",
   "execution_count": 54,
   "metadata": {},
   "outputs": [
    {
     "name": "stdout",
     "output_type": "stream",
     "text": [
      "72553319\n"
     ]
    }
   ],
   "source": [
    "with open(\"input.txt\") as fin:\n",
    "    data = fin.read()\n",
    "    lines = data.strip().split(\"\\n\")\n",
    "\n",
    "n = len(lines)\n",
    "m = len(lines[0])\n",
    "\n",
    "\n",
    "goods = [[[] for _ in range(m)] for _ in range(n)]\n",
    "\n",
    "\n",
    "def is_symbol(i, j, num):\n",
    "    if not (0 <= i < n and 0 <= j < m):\n",
    "        return False\n",
    "\n",
    "    if lines[i][j] == \"*\":\n",
    "        goods[i][j].append(num)\n",
    "    return lines[i][j] != \".\" and not lines[i][j].isdigit()\n",
    "\n",
    "\n",
    "ans = 0\n",
    "\n",
    "for i, line in enumerate(lines):\n",
    "    start = 0\n",
    "\n",
    "    j = 0\n",
    "\n",
    "    while j < m:\n",
    "        start = j\n",
    "        num = \"\"\n",
    "        while j < m and line[j].isdigit():\n",
    "            num += line[j]\n",
    "            j += 1\n",
    "\n",
    "        if num == \"\":\n",
    "            j += 1\n",
    "            continue\n",
    "\n",
    "        num = int(num)\n",
    "\n",
    "        # Number ended, look around\n",
    "        is_symbol(i, start-1, num) or is_symbol(i, j, num)\n",
    "\n",
    "        for k in range(start-1, j+1):\n",
    "            is_symbol(i-1, k, num) or is_symbol(i+1, k, num)\n",
    "\n",
    "for i in range(n):\n",
    "    for j in range(m):\n",
    "        nums = goods[i][j]\n",
    "        if lines[i][j] == \"*\" and len(nums) == 2:\n",
    "            ans += nums[0] * nums[1]\n",
    "\n",
    "print(ans)"
   ]
  }
 ],
 "metadata": {
  "kernelspec": {
   "display_name": "whisper",
   "language": "python",
   "name": "whisper"
  },
  "language_info": {
   "codemirror_mode": {
    "name": "ipython",
    "version": 3
   },
   "file_extension": ".py",
   "mimetype": "text/x-python",
   "name": "python",
   "nbconvert_exporter": "python",
   "pygments_lexer": "ipython3",
   "version": "3.8.13"
  }
 },
 "nbformat": 4,
 "nbformat_minor": 2
}
