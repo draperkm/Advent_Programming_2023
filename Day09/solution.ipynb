{
 "cells": [
  {
   "cell_type": "code",
   "execution_count": 96,
   "metadata": {},
   "outputs": [],
   "source": [
    "arr = []\n",
    "\n",
    "with open(\"input.txt\", \"r\") as file:\n",
    "    for line in file:\n",
    "        arr.append([int(num) for num in line.rstrip().split(\" \")])\n",
    "        \n",
    "##for i in arr:\n",
    "##    print(i)"
   ]
  },
  {
   "cell_type": "code",
   "execution_count": 97,
   "metadata": {},
   "outputs": [],
   "source": [
    "def find_diff(vector):\n",
    "    total = [vector]\n",
    "    while any(element != 0 for element in vector):\n",
    "        diff = []\n",
    "        for i in range(0, len(vector)-1):  # Change here\n",
    "            diff.append(vector[i+1] - vector[i])\n",
    "        vector = diff\n",
    "        if vector:  # Only append if vector is not empty\n",
    "            total.append(vector)\n",
    "        \n",
    "    return total\n",
    "\n",
    "#print(find_diff(arr[2]))  # Accessing the first (and in this case, only) list in arr\n"
   ]
  },
  {
   "cell_type": "code",
   "execution_count": 99,
   "metadata": {},
   "outputs": [],
   "source": [
    "#elements = find_diff(arr[2])\n",
    "\n",
    "def last_num(elements):\n",
    "    for i in range(len(elements) - 2, -1, -1):\n",
    "        # Append the last element of the next list to the end of the current list\n",
    "        elements[i].append(elements[i][-1] + elements[i + 1][-1])\n",
    "\n",
    "    return elements[0][-1]"
   ]
  },
  {
   "cell_type": "code",
   "execution_count": 100,
   "metadata": {},
   "outputs": [
    {
     "name": "stdout",
     "output_type": "stream",
     "text": [
      "1995001648\n"
     ]
    }
   ],
   "source": [
    "sum = 0\n",
    "\n",
    "for i in arr:\n",
    "    sum += last_num(find_diff(i))\n",
    "    \n",
    "print(sum)"
   ]
  }
 ],
 "metadata": {
  "kernelspec": {
   "display_name": "whisper",
   "language": "python",
   "name": "whisper"
  },
  "language_info": {
   "codemirror_mode": {
    "name": "ipython",
    "version": 3
   },
   "file_extension": ".py",
   "mimetype": "text/x-python",
   "name": "python",
   "nbconvert_exporter": "python",
   "pygments_lexer": "ipython3",
   "version": "3.8.13"
  }
 },
 "nbformat": 4,
 "nbformat_minor": 2
}
