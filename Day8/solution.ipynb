{
 "cells": [
  {
   "cell_type": "code",
   "execution_count": 82,
   "metadata": {},
   "outputs": [],
   "source": [
    "arr = []\n",
    "steps = 0\n",
    "\n",
    "with open(\"input.txt\", \"r\") as file:\n",
    "    for line in file:\n",
    "        elements = line.strip().split(\":\")\n",
    "        elements_2 = elements[0].split(\"=\")\n",
    "        arr.append(elements_2)\n",
    "     \n",
    "#for i in arr:\n",
    "#    print(i)\n",
    "\n",
    "instructions = arr[0][0]\n",
    "\n",
    "points = arr[2:]\n",
    "\n",
    "##print(instructions)\n",
    "\n",
    "##for i in range(0, len(points)):\n",
    "    ##print(len(points[i][0].rstrip()))\n",
    "    ##print(points[i])\n",
    "    "
   ]
  },
  {
   "cell_type": "code",
   "execution_count": 83,
   "metadata": {},
   "outputs": [],
   "source": [
    "##points[0][1].replace('(', '').replace(')', '').replace(' ', '').split(\",\")"
   ]
  },
  {
   "cell_type": "code",
   "execution_count": 84,
   "metadata": {},
   "outputs": [],
   "source": [
    "dict = {}\n",
    "\n",
    "for i in range(0, len(points)):\n",
    "    step = points[i][1].replace('(', '').replace(')', '').replace(' ', '').split(\",\")\n",
    "    dict[points[i][0].replace(' ', '')] = step"
   ]
  },
  {
   "cell_type": "code",
   "execution_count": 85,
   "metadata": {},
   "outputs": [],
   "source": [
    "##for key, value in dict.items():\n",
    "##    print(f'{key}: {value}')"
   ]
  },
  {
   "cell_type": "code",
   "execution_count": 88,
   "metadata": {},
   "outputs": [
    {
     "name": "stdout",
     "output_type": "stream",
     "text": [
      "18673\n"
     ]
    }
   ],
   "source": [
    "point = ''\n",
    "pointer = 0\n",
    "counter = 0\n",
    "sum = 0\n",
    "item = 'AAA'\n",
    "\n",
    "while item != 'ZZZ':\n",
    "    action = instructions[pointer]\n",
    "    ##print(action)\n",
    "    step = dict[item]\n",
    "    \n",
    "    if action == 'L':\n",
    "        item = step[0]\n",
    "        ##print(f'Left: {item}')\n",
    "        sum += 1\n",
    "        if item == 'ZZZ':\n",
    "            break\n",
    "    elif action == 'R':\n",
    "        item = step[1]\n",
    "        ##print(f'Right {item}')\n",
    "        sum += 1\n",
    "        if point == 'ZZZ':\n",
    "            break\n",
    "        \n",
    "    pointer += 1\n",
    "    if pointer == len(instructions):\n",
    "        pointer = 0\n",
    "    \n",
    "print(sum)"
   ]
  }
 ],
 "metadata": {
  "kernelspec": {
   "display_name": "whisper",
   "language": "python",
   "name": "whisper"
  },
  "language_info": {
   "codemirror_mode": {
    "name": "ipython",
    "version": 3
   },
   "file_extension": ".py",
   "mimetype": "text/x-python",
   "name": "python",
   "nbconvert_exporter": "python",
   "pygments_lexer": "ipython3",
   "version": "3.8.13"
  }
 },
 "nbformat": 4,
 "nbformat_minor": 2
}
