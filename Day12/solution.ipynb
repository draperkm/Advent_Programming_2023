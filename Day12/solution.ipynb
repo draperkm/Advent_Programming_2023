{
 "cells": [
  {
   "cell_type": "markdown",
   "metadata": {},
   "source": [
    "## Solution 1"
   ]
  },
  {
   "cell_type": "code",
   "execution_count": 1,
   "metadata": {},
   "outputs": [
    {
     "name": "stdout",
     "output_type": "stream",
     "text": [
      "8180\n"
     ]
    }
   ],
   "source": [
    "def count(cfg, nums):\n",
    "    if cfg == \"\":\n",
    "        return 1 if nums == () else 0\n",
    "\n",
    "    if nums == ():\n",
    "        return 0 if \"#\" in cfg else 1\n",
    "\n",
    "    result = 0\n",
    "    \n",
    "    if cfg[0] in \".?\":\n",
    "        result += count(cfg[1:], nums)\n",
    "        \n",
    "    if cfg[0] in \"#?\":\n",
    "        if nums[0] <= len(cfg) and \".\" not in cfg[:nums[0]] and (nums[0] == len(cfg) or cfg[nums[0]] != \"#\"):\n",
    "            result += count(cfg[nums[0] + 1:], nums[1:])\n",
    "\n",
    "    return result\n",
    "\n",
    "total = 0\n",
    "\n",
    "for line in open('input.txt'):\n",
    "    cfg, nums = line.split()\n",
    "    nums = tuple(map(int, nums.split(\",\")))\n",
    "    total += count(cfg, nums)\n",
    "\n",
    "print(total)\n",
    "\n",
    "'''https://github.com/hyper-neutrino/advent-of-code/blob/main/2023/day12p1.py'''"
   ]
  },
  {
   "cell_type": "markdown",
   "metadata": {},
   "source": [
    "## Solution 2"
   ]
  },
  {
   "cell_type": "code",
   "execution_count": 2,
   "metadata": {},
   "outputs": [
    {
     "name": "stdout",
     "output_type": "stream",
     "text": [
      "620189727003627\n"
     ]
    }
   ],
   "source": [
    "cache = {}\n",
    "\n",
    "def count(cfg, nums):\n",
    "    if cfg == \"\":\n",
    "        return 1 if nums == () else 0\n",
    "\n",
    "    if nums == ():\n",
    "        return 0 if \"#\" in cfg else 1\n",
    "    \n",
    "    key = (cfg, nums)\n",
    "    \n",
    "    if key in cache:\n",
    "        return cache[key]\n",
    "\n",
    "    result = 0\n",
    "    \n",
    "    if cfg[0] in \".?\":\n",
    "        result += count(cfg[1:], nums)\n",
    "        \n",
    "    if cfg[0] in \"#?\":\n",
    "        if nums[0] <= len(cfg) and \".\" not in cfg[:nums[0]] and (nums[0] == len(cfg) or cfg[nums[0]] != \"#\"):\n",
    "            result += count(cfg[nums[0] + 1:], nums[1:])\n",
    "\n",
    "    cache[key] = result\n",
    "    return result\n",
    "\n",
    "total = 0\n",
    "\n",
    "for line in open('input.txt'):\n",
    "    cfg, nums = line.split()\n",
    "    nums = tuple(map(int, nums.split(\",\")))\n",
    "    \n",
    "    cfg = \"?\".join([cfg] * 5)\n",
    "    nums *= 5\n",
    "    \n",
    "    total += count(cfg, nums)\n",
    "\n",
    "print(total)\n",
    "\n",
    "'''https://github.com/hyper-neutrino/advent-of-code/blob/main/2023/day12p2.py'''"
   ]
  }
 ],
 "metadata": {
  "kernelspec": {
   "display_name": "whisper",
   "language": "python",
   "name": "whisper"
  },
  "language_info": {
   "codemirror_mode": {
    "name": "ipython",
    "version": 3
   },
   "file_extension": ".py",
   "mimetype": "text/x-python",
   "name": "python",
   "nbconvert_exporter": "python",
   "pygments_lexer": "ipython3",
   "version": "3.8.13"
  }
 },
 "nbformat": 4,
 "nbformat_minor": 2
}
