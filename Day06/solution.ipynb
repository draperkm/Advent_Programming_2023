{
 "cells": [
  {
   "cell_type": "markdown",
   "metadata": {},
   "source": [
    "##Part1 = Part2\n",
    "\n",
    "Just change the input."
   ]
  },
  {
   "cell_type": "code",
   "execution_count": 68,
   "metadata": {},
   "outputs": [
    {
     "name": "stdout",
     "output_type": "stream",
     "text": [
      "[42899189]\n",
      "[308117012911467]\n"
     ]
    }
   ],
   "source": [
    "import re\n",
    "\n",
    "arr = []\n",
    "\n",
    "with open(\"input.txt\", \"r\") as file:\n",
    "    for line in file:\n",
    "        elements = line.strip().split(\":\")\n",
    "        arr.append(elements)\n",
    "     \n",
    "parameters = []\n",
    "   \n",
    "for i in arr:\n",
    "    ##print(i[1])\n",
    "    numbers = []\n",
    "    numbers = re.findall(r'\\d+', i[1])\n",
    "    numbers = [int(num) for num in numbers]\n",
    "    parameters.append(numbers)\n",
    "\n",
    "for j, i in enumerate(parameters):\n",
    "    print(f'{i}')\n"
   ]
  },
  {
   "cell_type": "code",
   "execution_count": 69,
   "metadata": {},
   "outputs": [
    {
     "name": "stdout",
     "output_type": "stream",
     "text": [
      "1\n"
     ]
    }
   ],
   "source": [
    "max_len = len(parameters[0])\n",
    "print(max_len)"
   ]
  },
  {
   "cell_type": "code",
   "execution_count": 70,
   "metadata": {},
   "outputs": [
    {
     "name": "stdout",
     "output_type": "stream",
     "text": [
      "[42899189, 308117012911467]\n"
     ]
    }
   ],
   "source": [
    "import numpy as np\n",
    "\n",
    "dict = {}\n",
    "\n",
    "arr2 = []\n",
    "\n",
    "for i in range(0, max_len):\n",
    "    #print(parameters[i][j])\n",
    "    #print(parameters[i+1][j])\n",
    "    #dict[parameters[i][j]] = parameters[i+1][j]\n",
    "    arr2.append([parameters[0][i],parameters[1][i]])\n",
    "\n",
    "for i in arr2:\n",
    "    print(i)"
   ]
  },
  {
   "cell_type": "code",
   "execution_count": 71,
   "metadata": {},
   "outputs": [
    {
     "name": "stdout",
     "output_type": "stream",
     "text": [
      "24655068\n"
     ]
    }
   ],
   "source": [
    "wins = []\n",
    "\n",
    "for i in arr2:\n",
    "    key = i[0] \n",
    "    value = i[1]\n",
    "    max_time = key\n",
    "    record = value\n",
    "    \n",
    "    space = []\n",
    "    \n",
    "    '''\n",
    "    for i in range(0, max_time):\n",
    "        #print(f'Try: {i+1}')\n",
    "        a_time = i + 1\n",
    "        t_c = max_time - a_time\n",
    "        v = a_time * 1\n",
    "        s = v * t_c\n",
    "        space.append(s)\n",
    "    '''\n",
    "    # Optimised\n",
    "    for i in range(0, max_time):\n",
    "        s = (i + 1) * (max_time - (i + 1))\n",
    "        space.append(s)\n",
    "    \n",
    "    count = sum(1 for value in space if value > record)\n",
    "    \n",
    "    wins.append(count)\n",
    "        \n",
    "print(np.prod(wins))"
   ]
  }
 ],
 "metadata": {
  "kernelspec": {
   "display_name": "whisper",
   "language": "python",
   "name": "whisper"
  },
  "language_info": {
   "codemirror_mode": {
    "name": "ipython",
    "version": 3
   },
   "file_extension": ".py",
   "mimetype": "text/x-python",
   "name": "python",
   "nbconvert_exporter": "python",
   "pygments_lexer": "ipython3",
   "version": "3.8.13"
  }
 },
 "nbformat": 4,
 "nbformat_minor": 2
}
