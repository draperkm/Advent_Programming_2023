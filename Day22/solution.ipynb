{
 "cells": [
  {
   "cell_type": "code",
   "execution_count": 1,
   "metadata": {},
   "outputs": [
    {
     "name": "stdout",
     "output_type": "stream",
     "text": [
      "515\n"
     ]
    }
   ],
   "source": [
    "bricks = [list(map(int, line.replace(\"~\", \",\").split(\",\"))) for line in open('input.txt')]\n",
    "bricks.sort(key=lambda brick: brick[2])\n",
    "\n",
    "def overlaps(a, b):\n",
    "    return max(a[0], b[0]) <= min(a[3], b[3]) and max(a[1], b[1]) <= min(a[4], b[4])\n",
    "\n",
    "for index, brick in enumerate(bricks):\n",
    "    max_z = 1\n",
    "    for check in bricks[:index]:\n",
    "        if overlaps(brick, check):\n",
    "            max_z = max(max_z, check[5] + 1)\n",
    "    brick[5] -= brick[2] - max_z\n",
    "    brick[2] = max_z\n",
    "    \n",
    "bricks.sort(key=lambda brick: brick[2])\n",
    "\n",
    "k_supports_v = {i: set() for i in range(len(bricks))}\n",
    "v_supports_k = {i: set() for i in range(len(bricks))}\n",
    "\n",
    "for j, upper in enumerate(bricks):\n",
    "    for i, lower in enumerate(bricks[:j]):\n",
    "        if overlaps(lower, upper) and upper[2] == lower[5] + 1:\n",
    "            k_supports_v[i].add(j)\n",
    "            v_supports_k[j].add(i)\n",
    "\n",
    "total = 0\n",
    "\n",
    "for i in range(len(bricks)):\n",
    "    if all(len(v_supports_k[j]) >= 2 for j in k_supports_v[i]):\n",
    "        total += 1\n",
    "\n",
    "print(total)"
   ]
  },
  {
   "cell_type": "code",
   "execution_count": 2,
   "metadata": {},
   "outputs": [
    {
     "name": "stdout",
     "output_type": "stream",
     "text": [
      "101541\n"
     ]
    }
   ],
   "source": [
    "from collections import deque\n",
    "\n",
    "bricks = [list(map(int, line.replace(\"~\", \",\").split(\",\"))) for line in open('input.txt')]\n",
    "bricks.sort(key=lambda brick: brick[2])\n",
    "\n",
    "def overlaps(a, b):\n",
    "    return max(a[0], b[0]) <= min(a[3], b[3]) and max(a[1], b[1]) <= min(a[4], b[4])\n",
    "\n",
    "for index, brick in enumerate(bricks):\n",
    "    max_z = 1\n",
    "    for check in bricks[:index]:\n",
    "        if overlaps(brick, check):\n",
    "            max_z = max(max_z, check[5] + 1)\n",
    "    brick[5] -= brick[2] - max_z\n",
    "    brick[2] = max_z\n",
    "    \n",
    "bricks.sort(key=lambda brick: brick[2])\n",
    "\n",
    "k_supports_v = {i: set() for i in range(len(bricks))}\n",
    "v_supports_k = {i: set() for i in range(len(bricks))}\n",
    "\n",
    "for j, upper in enumerate(bricks):\n",
    "    for i, lower in enumerate(bricks[:j]):\n",
    "        if overlaps(lower, upper) and upper[2] == lower[5] + 1:\n",
    "            k_supports_v[i].add(j)\n",
    "            v_supports_k[j].add(i)\n",
    "\n",
    "total = 0\n",
    "\n",
    "for i in range(len(bricks)):\n",
    "    q = deque(j for j in k_supports_v[i] if len(v_supports_k[j]) == 1)\n",
    "    falling = set(q)\n",
    "    falling.add(i)\n",
    "    \n",
    "    while q:\n",
    "        j = q.popleft()\n",
    "        for k in k_supports_v[j] - falling:\n",
    "            if v_supports_k[k] <= falling:\n",
    "                q.append(k)\n",
    "                falling.add(k)\n",
    "    \n",
    "    total += len(falling) - 1\n",
    "\n",
    "print(total)"
   ]
  },
  {
   "cell_type": "markdown",
   "metadata": {},
   "source": [
    "Solution from https://github.com/hyper-neutrino/advent-of-code/tree/main/2023"
   ]
  }
 ],
 "metadata": {
  "kernelspec": {
   "display_name": "whisper",
   "language": "python",
   "name": "whisper"
  },
  "language_info": {
   "codemirror_mode": {
    "name": "ipython",
    "version": 3
   },
   "file_extension": ".py",
   "mimetype": "text/x-python",
   "name": "python",
   "nbconvert_exporter": "python",
   "pygments_lexer": "ipython3",
   "version": "3.8.13"
  }
 },
 "nbformat": 4,
 "nbformat_minor": 2
}
