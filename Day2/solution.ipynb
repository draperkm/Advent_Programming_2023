{
 "cells": [
  {
   "cell_type": "markdown",
   "metadata": {},
   "source": [
    "## Part 1"
   ]
  },
  {
   "cell_type": "code",
   "execution_count": 200,
   "metadata": {},
   "outputs": [
    {
     "name": "stdout",
     "output_type": "stream",
     "text": [
      "2076\n"
     ]
    }
   ],
   "source": [
    "import re\n",
    "\n",
    "arr = []\n",
    "\n",
    "with open(\"input.txt\", \"r\") as file:\n",
    "    for j, line in enumerate(file):\n",
    "        elements = line.rstrip().split(\":\")\n",
    "        #print(elements)\n",
    "        game_results = elements[1].split(\";\")\n",
    "        ##print(f'game_results: {game_results}, {len(game_results)}')\n",
    "        dictionary = {}\n",
    "        for i in range(0, len(game_results)):\n",
    "            dictionary[\"game_id\"] = j+1\n",
    "            dictionary[\"game_res\"]= game_results\n",
    "        ##print(f'{dictionary}\\n')\n",
    "        arr.append(dictionary)\n",
    "\n",
    "diz = []\n",
    "desired_order = ['red', 'green', 'blue']\n",
    "limit = {'red': 12, 'green': 13, 'blue': 14}\n",
    "\n",
    "##print(arr[0]['game_res'])\n",
    "##print('stop \\n')\n",
    "\n",
    "# Iterate over each element of arr. Each element of arr is a dictionary\n",
    "for i in range(0,len(arr)):\n",
    "    #print(arr[i][\"game_id\"])\n",
    "    elements = arr[i]['game_res']\n",
    "    #print(elements)\n",
    "\n",
    "    new_arr = []\n",
    "\n",
    "    for element in elements:\n",
    "        result_dict = {}\n",
    "        temp = element.lstrip().split(\",\")\n",
    "        #print(f'temp: {temp}')\n",
    "        for k in temp:\n",
    "            key, value = k.lstrip().split(\" \")\n",
    "            result_dict[value] = int(key)\n",
    "            #print(f'result_dict: {result_dict}')\n",
    "        new_arr.append(result_dict)\n",
    "            \n",
    "        ##print(f'new arr: {new_arr}')\n",
    "        \n",
    "        switched_dict = {}\n",
    "    \n",
    "        for f in new_arr:\n",
    "            switched_dict = {key: f.get(key, 0) for key in desired_order}\n",
    "            if all(switched_dict[key] <= limit[key] for key in switched_dict):\n",
    "                arr[i][\"game_res\"] = True\n",
    "            else:\n",
    "                arr[i][\"game_res\"] = False\n",
    "                break\n",
    "    ##print(f'ssss {switched_dict}, result: {arr[i][\"game_res\"]}')\n",
    "\n",
    "        #diz.append(switched_dict)\n",
    "        #print(f'res: {switched_dict}: {arr[i][\"game_res\"]}')\n",
    "\n",
    "res = 0\n",
    "\n",
    "for i in arr:\n",
    "    ##print(i)\n",
    "    if i['game_res'] == True:\n",
    "        res += i['game_id']\n",
    "print(res)\n",
    "\n",
    "        "
   ]
  },
  {
   "cell_type": "markdown",
   "metadata": {},
   "source": [
    "## Part 2"
   ]
  },
  {
   "cell_type": "code",
   "execution_count": 201,
   "metadata": {},
   "outputs": [
    {
     "name": "stdout",
     "output_type": "stream",
     "text": [
      "2076\n"
     ]
    }
   ],
   "source": [
    "import re\n",
    "\n",
    "arr = []\n",
    "\n",
    "with open(\"input.txt\", \"r\") as file:\n",
    "    for j, line in enumerate(file):\n",
    "        elements = line.rstrip().split(\":\")\n",
    "        #print(elements)\n",
    "        game_results = elements[1].split(\";\")\n",
    "        ##print(f'game_results: {game_results}, {len(game_results)}')\n",
    "        dictionary = {}\n",
    "        for i in range(0, len(game_results)):\n",
    "            dictionary[\"game_id\"] = j+1\n",
    "            dictionary[\"game_res\"]= game_results\n",
    "        ##print(f'{dictionary}\\n')\n",
    "        arr.append(dictionary)\n",
    "\n",
    "diz = []\n",
    "desired_order = ['red', 'green', 'blue']\n",
    "limit = {'red': 12, 'green': 13, 'blue': 14}\n",
    "\n",
    "##print(arr[0]['game_res'])\n",
    "##print('stop \\n')\n",
    "\n",
    "# Iterate over each element of arr. Each element of arr is a dictionary\n",
    "for i in range(0,len(arr)):\n",
    "    #print(arr[i][\"game_id\"])\n",
    "    elements = arr[i]['game_res']\n",
    "    #print(elements)\n",
    "\n",
    "    new_arr = []\n",
    "\n",
    "    for element in elements:\n",
    "        result_dict = {}\n",
    "        temp = element.lstrip().split(\",\")\n",
    "        #print(f'temp: {temp}')\n",
    "        for k in temp:\n",
    "            key, value = k.lstrip().split(\" \")\n",
    "            result_dict[value] = int(key)\n",
    "            #print(f'result_dict: {result_dict}')\n",
    "        new_arr.append(result_dict)\n",
    "            \n",
    "        ##print(f'new arr: {new_arr}')\n",
    "        \n",
    "        switched_dict = {}\n",
    "    \n",
    "        for f in new_arr:\n",
    "            switched_dict = {key: f.get(key, 0) for key in desired_order}\n",
    "            if all(switched_dict[key] <= limit[key] for key in switched_dict):\n",
    "                arr[i][\"game_res\"] = True\n",
    "            else:\n",
    "                arr[i][\"game_res\"] = False\n",
    "                break\n",
    "    ##print(f'ssss {switched_dict}, result: {arr[i][\"game_res\"]}')\n",
    "\n",
    "        #diz.append(switched_dict)\n",
    "        #print(f'res: {switched_dict}: {arr[i][\"game_res\"]}')\n",
    "\n",
    "res = 0\n",
    "\n",
    "for i in arr:\n",
    "    ##print(i)\n",
    "    if i['game_res'] == True:\n",
    "        res += i['game_id']\n",
    "print(res)\n",
    "\n",
    "        "
   ]
  }
 ],
 "metadata": {
  "kernelspec": {
   "display_name": "whisper",
   "language": "python",
   "name": "whisper"
  },
  "language_info": {
   "codemirror_mode": {
    "name": "ipython",
    "version": 3
   },
   "file_extension": ".py",
   "mimetype": "text/x-python",
   "name": "python",
   "nbconvert_exporter": "python",
   "pygments_lexer": "ipython3",
   "version": "3.8.13"
  }
 },
 "nbformat": 4,
 "nbformat_minor": 2
}
