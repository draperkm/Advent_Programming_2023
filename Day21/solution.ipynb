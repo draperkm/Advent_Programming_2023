{
 "cells": [
  {
   "cell_type": "code",
   "execution_count": 33,
   "metadata": {},
   "outputs": [
    {
     "name": "stdout",
     "output_type": "stream",
     "text": [
      "3632\n"
     ]
    }
   ],
   "source": [
    "from collections import deque\n",
    "\n",
    "grid = open('input.txt').read().splitlines()\n",
    "\n",
    "sr, sc = next((r, c) for r, row in enumerate(grid) for c, ch in enumerate(row) if ch == \"S\")\n",
    "\n",
    "ans = set()\n",
    "seen = {(sr, sc)}\n",
    "q = deque([(sr, sc, 64)])\n",
    "\n",
    "while q:\n",
    "    r, c, s = q.popleft()\n",
    "\n",
    "    if s % 2 == 0:\n",
    "        ans.add((r, c))\n",
    "    if s == 0:\n",
    "        continue\n",
    "\n",
    "    for nr, nc in [(r + 1, c), (r - 1, c), (r, c + 1), (r, c - 1)]:\n",
    "        if nr < 0 or nr >= len(grid) or nc < 0 or nc >= len(grid[0]) or grid[nr][nc] == \"#\" or (nr, nc) in seen:\n",
    "            continue\n",
    "        seen.add((nr, nc))\n",
    "        q.append((nr, nc, s - 1))\n",
    "\n",
    "print(len(ans))"
   ]
  },
  {
   "cell_type": "code",
   "execution_count": 34,
   "metadata": {},
   "outputs": [
    {
     "name": "stdout",
     "output_type": "stream",
     "text": [
      "600336060511101\n"
     ]
    }
   ],
   "source": [
    "from collections import deque\n",
    "\n",
    "grid = open('input.txt').read().splitlines()\n",
    "\n",
    "sr, sc = next((r, c) for r, row in enumerate(grid) for c, ch in enumerate(row) if ch == \"S\")\n",
    "\n",
    "assert len(grid) == len(grid[0])\n",
    "\n",
    "size = len(grid)\n",
    "steps = 26501365\n",
    "\n",
    "assert sr == sc == size // 2\n",
    "assert steps % size == size // 2\n",
    "\n",
    "def fill(sr, sc, ss):\n",
    "    ans = set()\n",
    "    seen = {(sr, sc)}\n",
    "    q = deque([(sr, sc, ss)])\n",
    "\n",
    "    while q:\n",
    "        r, c, s = q.popleft()\n",
    "\n",
    "        if s % 2 == 0:\n",
    "            ans.add((r, c))\n",
    "        if s == 0:\n",
    "            continue\n",
    "\n",
    "        for nr, nc in [(r + 1, c), (r - 1, c), (r, c + 1), (r, c - 1)]:\n",
    "            if nr < 0 or nr >= len(grid) or nc < 0 or nc >= len(grid[0]) or grid[nr][nc] == \"#\" or (nr, nc) in seen:\n",
    "                continue\n",
    "            seen.add((nr, nc))\n",
    "            q.append((nr, nc, s - 1))\n",
    "    \n",
    "    return len(ans)\n",
    "\n",
    "grid_width = steps // size - 1\n",
    "\n",
    "odd = (grid_width // 2 * 2 + 1) ** 2\n",
    "even = ((grid_width + 1) // 2 * 2) ** 2\n",
    "\n",
    "odd_points = fill(sr, sc, size * 2 + 1)\n",
    "even_points = fill(sr, sc, size * 2)\n",
    "\n",
    "corner_t = fill(size - 1, sc, size - 1)\n",
    "corner_r = fill(sr, 0, size - 1)\n",
    "corner_b = fill(0, sc, size - 1)\n",
    "corner_l = fill(sr, size - 1, size - 1)\n",
    "\n",
    "small_tr = fill(size - 1, 0, size // 2 - 1)\n",
    "small_tl = fill(size - 1, size - 1, size // 2 - 1)\n",
    "small_br = fill(0, 0, size // 2 - 1)\n",
    "small_bl = fill(0, size - 1, size // 2 - 1)\n",
    "\n",
    "large_tr = fill(size - 1, 0, size * 3 // 2 - 1)\n",
    "large_tl = fill(size - 1, size - 1, size * 3 // 2 - 1)\n",
    "large_br = fill(0, 0, size * 3 // 2 - 1)\n",
    "large_bl = fill(0, size - 1, size * 3 // 2 - 1)\n",
    "\n",
    "print(\n",
    "    odd * odd_points +\n",
    "    even * even_points +\n",
    "    corner_t + corner_r + corner_b + corner_l +\n",
    "    (grid_width + 1) * (small_tr + small_tl + small_br + small_bl) +\n",
    "    grid_width * (large_tr + large_tl + large_br + large_bl)\n",
    ")"
   ]
  },
  {
   "cell_type": "markdown",
   "metadata": {},
   "source": [
    "Solution from https://github.com/hyper-neutrino/advent-of-code/tree/main/2023"
   ]
  }
 ],
 "metadata": {
  "kernelspec": {
   "display_name": "whisper",
   "language": "python",
   "name": "whisper"
  },
  "language_info": {
   "codemirror_mode": {
    "name": "ipython",
    "version": 3
   },
   "file_extension": ".py",
   "mimetype": "text/x-python",
   "name": "python",
   "nbconvert_exporter": "python",
   "pygments_lexer": "ipython3",
   "version": "3.8.13"
  }
 },
 "nbformat": 4,
 "nbformat_minor": 2
}
