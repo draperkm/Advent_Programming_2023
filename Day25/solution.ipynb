{
 "cells": [
  {
   "cell_type": "code",
   "execution_count": 5,
   "metadata": {},
   "outputs": [
    {
     "name": "stdout",
     "output_type": "stream",
     "text": [
      "552682\n"
     ]
    }
   ],
   "source": [
    "import networkx as nx\n",
    "\n",
    "g = nx.Graph()\n",
    "\n",
    "for line in open('input.txt'):\n",
    "    left, right = line.split(\":\")\n",
    "    for node in right.strip().split():\n",
    "        g.add_edge(left, node)\n",
    "        g.add_edge(node, left)\n",
    "\n",
    "g.remove_edges_from(nx.minimum_edge_cut(g))\n",
    "a, b = nx.connected_components(g)\n",
    "\n",
    "print(len(a) * len(b))"
   ]
  }
 ],
 "metadata": {
  "kernelspec": {
   "display_name": "whisper",
   "language": "python",
   "name": "whisper"
  },
  "language_info": {
   "codemirror_mode": {
    "name": "ipython",
    "version": 3
   },
   "file_extension": ".py",
   "mimetype": "text/x-python",
   "name": "python",
   "nbconvert_exporter": "python",
   "pygments_lexer": "ipython3",
   "version": "3.8.13"
  }
 },
 "nbformat": 4,
 "nbformat_minor": 2
}
