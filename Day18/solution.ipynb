{
 "cells": [
  {
   "cell_type": "markdown",
   "metadata": {},
   "source": [
    "## Naive solution"
   ]
  },
  {
   "cell_type": "code",
   "execution_count": 24,
   "metadata": {},
   "outputs": [],
   "source": [
    "input = [line[:3].strip().split(\" \") for line in open('input2.txt')]\n",
    "\n",
    "#for i in input:\n",
    "#    print(i)"
   ]
  },
  {
   "cell_type": "code",
   "execution_count": 38,
   "metadata": {},
   "outputs": [
    {
     "name": "stdout",
     "output_type": "stream",
     "text": [
      "[['.', '.', '.', '.', '.', '.', '.'], ['.', '.', '.', '.', '.', '.', '.'], ['.', '.', '.', '.', '.', '.', '.'], ['.', '.', '.', '.', '.', '.', '.'], ['.', '.', '.', '.', '.', '.', '.'], ['.', '.', '.', '.', '.', '.', '.'], ['.', '.', '.', '.', '.', '.', '.'], ['.', '.', '.', '.', '.', '.', '.'], ['.', '.', '.', '.', '.', '.', '.'], ['.', '.', '.', '.', '.', '.', '.']]\n"
     ]
    }
   ],
   "source": [
    "matrix = [['.' for _ in range(7)] for _ in range(10)]\n",
    "#matrix[0][0] = '#'\n",
    "print(matrix)\n",
    "i = 0\n",
    "j = 0"
   ]
  },
  {
   "cell_type": "code",
   "execution_count": 39,
   "metadata": {},
   "outputs": [
    {
     "name": "stdout",
     "output_type": "stream",
     "text": [
      "['#', '#', '#', '#', '#', '#', '#']\n",
      "['#', '.', '.', '.', '.', '.', '#']\n",
      "['#', '#', '#', '.', '.', '.', '#']\n",
      "['.', '.', '#', '.', '.', '.', '#']\n",
      "['.', '.', '#', '.', '.', '.', '#']\n",
      "['#', '#', '#', '.', '#', '#', '#']\n",
      "['#', '.', '.', '.', '#', '.', '.']\n",
      "['#', '#', '.', '.', '#', '#', '#']\n",
      "['.', '#', '.', '.', '.', '.', '#']\n",
      "['.', '#', '#', '#', '#', '#', '#']\n"
     ]
    }
   ],
   "source": [
    "for y in input:\n",
    "    if y[0] == 'R':\n",
    "        ##print(y[0], y[1])\n",
    "        for r in range(0, int(y[1])):\n",
    "            i += 1\n",
    "            matrix[j][i] = '#'\n",
    "    elif y[0] == 'D':\n",
    "        #print(y[0], y[1])\n",
    "        for r in range(0, int(y[1])):\n",
    "            j += 1\n",
    "            matrix[j][i] = '#'\n",
    "    elif y[0] == 'L':\n",
    "        #print(y[0], y[1])\n",
    "        for r in range(0, int(y[1])):\n",
    "            i -= 1\n",
    "            matrix[j][i] = '#'\n",
    "    elif y[0] == 'U':\n",
    "        #print(y[0], y[1])\n",
    "        for r in range(0, int(y[1])):\n",
    "            j -= 1\n",
    "            matrix[j][i] = '#'\n",
    "\n",
    "        \n",
    "for k in matrix:    \n",
    "    print(k)"
   ]
  },
  {
   "cell_type": "code",
   "execution_count": 40,
   "metadata": {},
   "outputs": [
    {
     "name": "stdout",
     "output_type": "stream",
     "text": [
      "['#', '#', '#', '#', '#', '#', '#']\n",
      "['#', '#', '#', '#', '#', '#', '#']\n",
      "['#', '#', '#', '#', '#', '#', '#']\n",
      "['.', '.', '#', '#', '#', '#', '#']\n",
      "['.', '.', '#', '#', '#', '#', '#']\n",
      "['#', '#', '#', '#', '#', '#', '#']\n",
      "['#', '#', '#', '#', '#', '.', '.']\n",
      "['#', '#', '#', '#', '#', '#', '#']\n",
      "['.', '#', '#', '#', '#', '#', '#']\n",
      "['.', '#', '#', '#', '#', '#', '#']\n"
     ]
    }
   ],
   "source": [
    "j = 0\n",
    "for i in matrix:\n",
    "    first_index = i.index('#')\n",
    "    last_index = len(i) - 1 - i[::-1].index('#')\n",
    "    for i in range(first_index, last_index + 1):\n",
    "        if matrix[j][i] == '.':\n",
    "            matrix[j][i] = '#'\n",
    "    j += 1\n",
    "\n",
    "for k in matrix:    \n",
    "    print(k)"
   ]
  },
  {
   "cell_type": "code",
   "execution_count": 41,
   "metadata": {},
   "outputs": [
    {
     "name": "stdout",
     "output_type": "stream",
     "text": [
      "62\n"
     ]
    }
   ],
   "source": [
    "sum = 0\n",
    "\n",
    "for i in matrix:\n",
    "    for j in i:\n",
    "        if j == '#':\n",
    "            sum +=1\n",
    "\n",
    "print(sum)"
   ]
  },
  {
   "cell_type": "markdown",
   "metadata": {},
   "source": [
    "## Part 1"
   ]
  },
  {
   "cell_type": "code",
   "execution_count": 2,
   "metadata": {},
   "outputs": [
    {
     "name": "stdout",
     "output_type": "stream",
     "text": [
      "74074\n"
     ]
    }
   ],
   "source": [
    "points = [(0, 0)]\n",
    "dirs = {\"U\": (-1, 0), \"D\": (1, 0), \"L\": (0, -1), \"R\": (0, 1)}\n",
    "\n",
    "b = 0\n",
    "\n",
    "for line in open(\"input.txt\"):\n",
    "    d, n, _ = line.split()\n",
    "    dr, dc = dirs[d]\n",
    "    n = int(n)\n",
    "    b += n\n",
    "    r, c = points[-1]\n",
    "    points.append((r + dr * n, c + dc * n))\n",
    "\n",
    "A = abs(sum(points[i][0] * (points[i - 1][1] - points[(i + 1) % len(points)][1]) for i in range(len(points)))) // 2\n",
    "i = A - b // 2 + 1\n",
    "\n",
    "print(i + b)\n",
    "\n",
    "'''solution from https://github.com/hyper-neutrino/advent-of-code/blob/main/2023/day18p1.py'''"
   ]
  },
  {
   "cell_type": "markdown",
   "metadata": {},
   "source": [
    "## Part 2"
   ]
  },
  {
   "cell_type": "code",
   "execution_count": 3,
   "metadata": {},
   "outputs": [
    {
     "name": "stdout",
     "output_type": "stream",
     "text": [
      "112074045986829\n"
     ]
    }
   ],
   "source": [
    "points = [(0, 0)]\n",
    "dirs = {\"U\": (-1, 0), \"D\": (1, 0), \"L\": (0, -1), \"R\": (0, 1)}\n",
    "\n",
    "b = 0\n",
    "\n",
    "for line in open('input.txt'):\n",
    "    _, _, x = line.split()\n",
    "    x = x[2:-1]\n",
    "    dr, dc = dirs[\"RDLU\"[int(x[-1])]]\n",
    "    n = int(x[:-1], 16)\n",
    "    b += n\n",
    "    r, c = points[-1]\n",
    "    points.append((r + dr * n, c + dc * n))\n",
    "\n",
    "A = abs(sum(points[i][0] * (points[i - 1][1] - points[(i + 1) % len(points)][1]) for i in range(len(points)))) // 2\n",
    "i = A - b // 2 + 1\n",
    "\n",
    "print(i + b)"
   ]
  }
 ],
 "metadata": {
  "kernelspec": {
   "display_name": "whisper",
   "language": "python",
   "name": "whisper"
  },
  "language_info": {
   "codemirror_mode": {
    "name": "ipython",
    "version": 3
   },
   "file_extension": ".py",
   "mimetype": "text/x-python",
   "name": "python",
   "nbconvert_exporter": "python",
   "pygments_lexer": "ipython3",
   "version": "3.8.13"
  }
 },
 "nbformat": 4,
 "nbformat_minor": 2
}
