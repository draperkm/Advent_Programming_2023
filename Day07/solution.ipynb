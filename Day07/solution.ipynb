{
 "cells": [
  {
   "cell_type": "code",
   "execution_count": 1,
   "metadata": {},
   "outputs": [
    {
     "name": "stdout",
     "output_type": "stream",
     "text": [
      "['32T3K', '765']\n",
      "['T55J5', '684']\n",
      "['KK677', '28']\n",
      "['KTJJT', '220']\n",
      "['QQQJA', '483']\n"
     ]
    }
   ],
   "source": [
    "arr = []\n",
    "\n",
    "with open(\"input2.txt\", \"r\") as file:\n",
    "    for line in file:\n",
    "        elements = line.strip().split(\" \")\n",
    "        arr.append(elements)\n",
    "\n",
    "for i in arr:\n",
    "    print(i)"
   ]
  },
  {
   "cell_type": "code",
   "execution_count": 2,
   "metadata": {},
   "outputs": [
    {
     "name": "stdout",
     "output_type": "stream",
     "text": [
      "{'A': None, 'K': None, 'Q': None, 'J': None, 'T': None, '9': None, '8': None, '7': None, '6': None, '5': None, '4': None, '3': None, '2': None}\n"
     ]
    }
   ],
   "source": [
    "cards = ['A', 'K', 'Q', 'J', 'T', '9', '8', '7', '6', '5', '4', '3', '2']\n",
    "card_dict = {card: None for card in cards}\n",
    "print(card_dict)\n"
   ]
  },
  {
   "cell_type": "code",
   "execution_count": 31,
   "metadata": {},
   "outputs": [],
   "source": [
    "from collections import Counter\n",
    "\n",
    "hands = []\n",
    "\n",
    "for i in arr:\n",
    "    cards = ['A', 'K', 'Q', 'J', 'T', '9', '8', '7', '6', '5', '4', '3', '2']\n",
    "    card_dict = {card: 0 for card in cards}\n",
    "    for j in i[0]:\n",
    "        if j in card_dict:\n",
    "            card_dict[j] += 1\n",
    "    \n",
    "    non_zero_dict = {key: value for key, value in card_dict.items() if value != 0}\n",
    "    value_counts = Counter(non_zero_dict.values())\n",
    "    \n",
    "    for f in non_zero_dict:\n",
    "        if any(value == 5 for value in non_zero_dict.values()):\n",
    "            r = 'Five of'\n",
    "        elif any(value == 4 for value in non_zero_dict.values()):\n",
    "            r = 'Four of'\n",
    "        elif any(value == 3 for value in non_zero_dict.values()) and any(value == 2 for value in non_zero_dict.values()):\n",
    "            r = 'Full'\n",
    "        elif any(value == 3 for value in non_zero_dict.values()) and any(value == 1 for value in non_zero_dict.values()):\n",
    "            r = 'Three of'\n",
    "        elif value_counts[2] == 2:\n",
    "            r = '2 Pair'\n",
    "        elif value_counts[2] == 1:\n",
    "            r = '1 Pair'\n",
    "        else:\n",
    "            r = 'High'\n",
    "    \n",
    "    hands.append([non_zero_dict, r, i[1]])"
   ]
  },
  {
   "cell_type": "code",
   "execution_count": 32,
   "metadata": {},
   "outputs": [
    {
     "name": "stdout",
     "output_type": "stream",
     "text": [
      "0 [{'K': 1, 'T': 1, '3': 2, '2': 1}, '1 Pair', '765']\n",
      "1 [{'J': 1, 'T': 1, '5': 3}, 'Three of', '684']\n",
      "2 [{'K': 2, '7': 2, '6': 1}, '2 Pair', '28']\n",
      "3 [{'K': 1, 'J': 2, 'T': 2}, '2 Pair', '220']\n",
      "4 [{'A': 1, 'Q': 3, 'J': 1}, 'Three of', '483']\n"
     ]
    }
   ],
   "source": [
    "for i, j in enumerate(hands):\n",
    "    print(i,j)\n",
    "    "
   ]
  },
  {
   "cell_type": "code",
   "execution_count": 14,
   "metadata": {},
   "outputs": [],
   "source": [
    "ranking = {'Five of': 7, 'Four of': 6, 'Full': 5, 'Three of': 4, '2 Pair': 3, '1 Pair':2, 'High': 1}"
   ]
  },
  {
   "cell_type": "code",
   "execution_count": 33,
   "metadata": {},
   "outputs": [],
   "source": [
    "sorted_arrays = sorted(hands, key=lambda x: ranking[x[1]], reverse=True)"
   ]
  },
  {
   "cell_type": "code",
   "execution_count": 34,
   "metadata": {},
   "outputs": [
    {
     "name": "stdout",
     "output_type": "stream",
     "text": [
      "[{'J': 1, 'T': 1, '5': 3}, 'Three of', '684']\n",
      "[{'A': 1, 'Q': 3, 'J': 1}, 'Three of', '483']\n",
      "[{'K': 2, '7': 2, '6': 1}, '2 Pair', '28']\n",
      "[{'K': 1, 'J': 2, 'T': 2}, '2 Pair', '220']\n",
      "[{'K': 1, 'T': 1, '3': 2, '2': 1}, '1 Pair', '765']\n"
     ]
    }
   ],
   "source": [
    "for i in sorted_arrays:\n",
    "    print(i)"
   ]
  },
  {
   "cell_type": "code",
   "execution_count": 25,
   "metadata": {},
   "outputs": [
    {
     "name": "stdout",
     "output_type": "stream",
     "text": [
      "key: 2, value:1\n",
      "key: 3, value:2\n",
      "key: 4, value:3\n",
      "key: 5, value:4\n",
      "key: 6, value:5\n",
      "key: 7, value:6\n",
      "key: 8, value:7\n",
      "key: 9, value:8\n",
      "key: T, value:9\n",
      "key: J, value:10\n",
      "key: Q, value:11\n",
      "key: K, value:12\n",
      "key: A, value:13\n"
     ]
    }
   ],
   "source": [
    "second_ranking = {card: rank for rank, card in enumerate(reversed(cards), start=1)}\n",
    "\n",
    "for key, value in second_ranking.items():\n",
    "    print(f'key: {key}, value:{value}')\n",
    "    "
   ]
  },
  {
   "cell_type": "code",
   "execution_count": 37,
   "metadata": {},
   "outputs": [],
   "source": [
    "#elements = ['Five of', 'Four of', 'Full', 'Three of', '2 Pair', '1 Pair', 'High']\n",
    "\n",
    "groups = {}\n",
    "\n",
    "for element in sorted_arrays:\n",
    "    key = element[1]\n",
    "    if key in groups:\n",
    "        groups[key].append([element[0], element[2]])\n",
    "    else:\n",
    "        groups[key] = [element[0], element[2]]\n"
   ]
  },
  {
   "cell_type": "code",
   "execution_count": 38,
   "metadata": {},
   "outputs": [
    {
     "name": "stdout",
     "output_type": "stream",
     "text": [
      "Three of : [{'J': 1, 'T': 1, '5': 3}, '684', [{'A': 1, 'Q': 3, 'J': 1}, '483']]\n",
      "2 Pair : [{'K': 2, '7': 2, '6': 1}, '28', [{'K': 1, 'J': 2, 'T': 2}, '220']]\n",
      "1 Pair : [{'K': 1, 'T': 1, '3': 2, '2': 1}, '765']\n"
     ]
    }
   ],
   "source": [
    "for key, value in groups.items():\n",
    "    print(f'{key} : {value}')"
   ]
  },
  {
   "cell_type": "code",
   "execution_count": null,
   "metadata": {},
   "outputs": [],
   "source": []
  },
  {
   "cell_type": "code",
   "execution_count": null,
   "metadata": {},
   "outputs": [],
   "source": []
  },
  {
   "cell_type": "code",
   "execution_count": null,
   "metadata": {},
   "outputs": [],
   "source": []
  }
 ],
 "metadata": {
  "kernelspec": {
   "display_name": "whisper",
   "language": "python",
   "name": "whisper"
  },
  "language_info": {
   "codemirror_mode": {
    "name": "ipython",
    "version": 3
   },
   "file_extension": ".py",
   "mimetype": "text/x-python",
   "name": "python",
   "nbconvert_exporter": "python",
   "pygments_lexer": "ipython3",
   "version": "3.8.13"
  }
 },
 "nbformat": 4,
 "nbformat_minor": 2
}
